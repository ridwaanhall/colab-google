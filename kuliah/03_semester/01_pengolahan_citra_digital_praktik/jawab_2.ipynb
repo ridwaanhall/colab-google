{
  "nbformat": 4,
  "nbformat_minor": 0,
  "metadata": {
    "colab": {
      "private_outputs": true,
      "provenance": [],
      "authorship_tag": "ABX9TyOoDAcJFwMrNZcCyn6GH1ZF",
      "include_colab_link": true
    },
    "kernelspec": {
      "name": "python3",
      "display_name": "Python 3"
    },
    "language_info": {
      "name": "python"
    }
  },
  "cells": [
    {
      "cell_type": "markdown",
      "metadata": {
        "id": "view-in-github",
        "colab_type": "text"
      },
      "source": [
        "<a href=\"https://colab.research.google.com/github/ridwaanhall/colab-google/blob/main/kuliah/03_semester/01_pengolahan_citra_digital_praktik/jawab_2.ipynb\" target=\"_parent\"><img src=\"https://colab.research.google.com/assets/colab-badge.svg\" alt=\"Open In Colab\"/></a>"
      ]
    },
    {
      "cell_type": "code",
      "execution_count": null,
      "metadata": {
        "id": "qMb4FBOLSXGX"
      },
      "outputs": [],
      "source": [
        "import numpy as np\n",
        "\n",
        "X = np.array([7,5])\n",
        "y = np.array([9,1])\n",
        "\n",
        "def euc(x,y):\n",
        "  c = x-y\n",
        "  h1 = np.sqrt(c[0]**2+c[1]**2)\n",
        "  h2 = np.linalg.norm(c)\n",
        "  return h1,h2\n",
        "\n",
        "euc(x,y)"
      ]
    }
  ]
}