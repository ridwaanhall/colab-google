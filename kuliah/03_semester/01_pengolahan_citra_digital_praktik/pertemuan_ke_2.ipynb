{
  "nbformat": 4,
  "nbformat_minor": 0,
  "metadata": {
    "colab": {
      "private_outputs": true,
      "provenance": [],
      "authorship_tag": "ABX9TyOh8JYUylW6cVvzwlgIWiBs",
      "include_colab_link": true
    },
    "kernelspec": {
      "name": "python3",
      "display_name": "Python 3"
    },
    "language_info": {
      "name": "python"
    }
  },
  "cells": [
    {
      "cell_type": "markdown",
      "metadata": {
        "id": "view-in-github",
        "colab_type": "text"
      },
      "source": [
        "<a href=\"https://colab.research.google.com/github/ridwaanhall/colab-google/blob/main/kuliah/03_semester/01_pengolahan_citra_digital_praktik/pertemuan_ke_2.ipynb\" target=\"_parent\"><img src=\"https://colab.research.google.com/assets/colab-badge.svg\" alt=\"Open In Colab\"/></a>"
      ]
    },
    {
      "cell_type": "code",
      "execution_count": null,
      "metadata": {
        "id": "qXsEQH0_5-_4"
      },
      "outputs": [],
      "source": [
        "#NOMOR 1\n",
        "import numpy as np\n",
        "a = input(\"masukkan koorinat :\")\n",
        "b = input(\"masukkan koorinat :\")\n",
        "c = input(\"masukkan koorinat :\")\n",
        "d = input(\"masukkan koorinat :\")\n",
        "A = input(\"masukkan koorinat :\")\n",
        "B = input(\"masukkan koorinat :\")\n",
        "C = input(\"masukkan koorinat :\")\n",
        "D = input(\"masukkan koorinat :\")\n",
        "\n",
        "np.arrray([[a,A],[],[],[]])\n"
      ]
    },
    {
      "cell_type": "code",
      "source": [],
      "metadata": {
        "id": "R67_JvJWHvM9"
      },
      "execution_count": null,
      "outputs": []
    },
    {
      "cell_type": "code",
      "source": [
        "#NOMOR 2\n",
        "import numpy as np\n",
        "\n",
        "#np.ramdom.rand(500,500) #5 baris 3 koloom\n",
        "np.array([[5,8],[15,8],[5,12],[15,12]])"
      ],
      "metadata": {
        "id": "AB3hsWS-689W"
      },
      "execution_count": null,
      "outputs": []
    },
    {
      "cell_type": "code",
      "source": [
        "#NOMOR 3\n"
      ],
      "metadata": {
        "id": "lAWJyeP77qk5"
      },
      "execution_count": null,
      "outputs": []
    },
    {
      "cell_type": "code",
      "source": [
        "import numpy as np\n",
        "def luas_bangun(a,b,c,d):\n",
        "  a = abs(np.array())\n",
        "  d ="
      ],
      "metadata": {
        "id": "W_hAxWXRAQfs"
      },
      "execution_count": null,
      "outputs": []
    },
    {
      "cell_type": "code",
      "source": [
        "import numpy as np\n",
        "\n",
        "arr = np.array([[5,8],    #A\n",
        "                [15,8],   #B\n",
        "                [5,12],   #C\n",
        "                [15,12]]) #D\n",
        "def luas(a,b,c,d):\n",
        "  a = arr[2,1] - arr[0,1]\n",
        "  b = arr[0,1] - arr[0,0]\n",
        "  return(P*T)\n",
        "\n",
        "print(luas(a,b,c,d))\n"
      ],
      "metadata": {
        "id": "Ng6QKlycBVLJ"
      },
      "execution_count": null,
      "outputs": []
    }
  ]
}