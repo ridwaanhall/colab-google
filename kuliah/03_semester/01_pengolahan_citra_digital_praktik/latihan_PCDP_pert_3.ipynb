{
  "nbformat": 4,
  "nbformat_minor": 0,
  "metadata": {
    "colab": {
      "provenance": [],
      "authorship_tag": "ABX9TyNy/jcz5g09spADUADcPACp",
      "include_colab_link": true
    },
    "kernelspec": {
      "name": "python3",
      "display_name": "Python 3"
    },
    "language_info": {
      "name": "python"
    }
  },
  "cells": [
    {
      "cell_type": "markdown",
      "metadata": {
        "id": "view-in-github",
        "colab_type": "text"
      },
      "source": [
        "<a href=\"https://colab.research.google.com/github/ridwaanhall/colab-google/blob/main/kuliah/03_semester/01_pengolahan_citra_digital_praktik/latihan_PCDP_pert_3.ipynb\" target=\"_parent\"><img src=\"https://colab.research.google.com/assets/colab-badge.svg\" alt=\"Open In Colab\"/></a>"
      ]
    },
    {
      "cell_type": "code",
      "execution_count": null,
      "metadata": {
        "id": "0Au323xiM8I1"
      },
      "outputs": [],
      "source": [
        "import numpy as np\n",
        "import matplotlib.pyplot as plt\n",
        "from skimage.color import rgb2gray"
      ]
    },
    {
      "cell_type": "code",
      "source": [
        "rid = plt.imread(\"download.jpg\")\n",
        "plt.imshow(rid)"
      ],
      "metadata": {
        "id": "Vxfwth-cNNt5"
      },
      "execution_count": null,
      "outputs": []
    },
    {
      "cell_type": "code",
      "source": [
        "rid_g = rgb2gray(rid)\n",
        "plt.imshow(rid_g,cmap=plt.cm.gray)"
      ],
      "metadata": {
        "id": "e9Fy8f6SNcY_"
      },
      "execution_count": null,
      "outputs": []
    },
    {
      "cell_type": "code",
      "source": [
        "def gitulah(rid):\n",
        "  rid_q = np.zeros((rid.shape[0],rid.shape[1]))\n",
        "  for r in range(0,rid.shape[0]):\n",
        "    for c in range(0,rid.shape[1]):\n",
        "      if rid[r,c] < 100:\n",
        "        rid_q[r,c] = 50\n",
        "      elif rid[r,c] > 200:\n",
        "        rid_q[r,c] = 230\n",
        "      else:\n",
        "        rid_q[r,c] = 150\n",
        "  return rid_q\n",
        "\n",
        "plt.imread(\"gambar_2.jpg\")\n",
        "img_gray = rgb2gray(rid)*255\n",
        "img_quant = gitulah(img_gray)\n",
        "\n",
        "plt.figure()\n",
        "plt.imshow(rid)\n",
        "plt.figure()\n",
        "plt.imshow(img_gray,cmap=plt.cm.gray)\n",
        "plt.figure()\n",
        "plt.imshow(img_quant,cmap=plt.cm.gray,vmin=0,vmax=255)"
      ],
      "metadata": {
        "id": "3CdhbTsdNhSJ"
      },
      "execution_count": null,
      "outputs": []
    }
  ]
}