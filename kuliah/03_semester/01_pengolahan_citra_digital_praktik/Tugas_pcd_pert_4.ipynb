{
  "nbformat": 4,
  "nbformat_minor": 0,
  "metadata": {
    "colab": {
      "private_outputs": true,
      "provenance": [],
      "authorship_tag": "ABX9TyNCab8dyp2feaGi8FCWFbGo",
      "include_colab_link": true
    },
    "kernelspec": {
      "name": "python3",
      "display_name": "Python 3"
    },
    "language_info": {
      "name": "python"
    }
  },
  "cells": [
    {
      "cell_type": "markdown",
      "metadata": {
        "id": "view-in-github",
        "colab_type": "text"
      },
      "source": [
        "<a href=\"https://colab.research.google.com/github/ridwaanhall/colab-google/blob/main/kuliah/03_semester/01_pengolahan_citra_digital_praktik/Tugas_pcd_pert_4.ipynb\" target=\"_parent\"><img src=\"https://colab.research.google.com/assets/colab-badge.svg\" alt=\"Open In Colab\"/></a>"
      ]
    },
    {
      "cell_type": "code",
      "execution_count": null,
      "metadata": {
        "id": "5cC08qKZI4Sz"
      },
      "outputs": [],
      "source": [
        "from skimage import io\n",
        "import matplotlib.pyplot as plt\n",
        "import numpy as np\n",
        "\n",
        "img = io.imread(\"https://cdns.klimg.com/merdeka.com/i/w/news/2013/10/16/263704/540x270/sekarang-mario-bross-bisa-dimainkan-langsung-via-browser.jpg\")\n",
        "#kuliah/03_semester/01_pengolahan_citra_digital_praktik/\n",
        "img_r = img[:,:,0]\n",
        "img_g = img[:,:,1]\n",
        "img_b = img[:,:,2]\n",
        "\n",
        "img_newgray = img_r * 0.1215 + img_g * 0,7154 + img_b * 0.0721\n",
        "\n",
        "# binerisasi\n",
        "def gitulah(rid):\n",
        "  rid_q = np.zeros((rid.shape[0],rid.shape[1]))\n",
        "  for r in range(0,rid.shape[0]):\n",
        "    for c in range(0,rid.shape[1]):\n",
        "      if rid[r,c] < 128:\n",
        "        rid_q[r,c] = 0\n",
        "      else:\n",
        "        rid_q[r,c] = 255\n",
        "  return rid_q\n",
        "\n",
        "plt.figure()\n",
        "plt.imshow(img_newgray, cmap=plt.cm.gray)"
      ]
    },
    {
      "cell_type": "code",
      "source": [
        "print(\"gambar asli\")\n",
        "plt.figure()\n",
        "plt.imshow(img)"
      ],
      "metadata": {
        "id": "kTj_MeEJKopN"
      },
      "execution_count": null,
      "outputs": []
    },
    {
      "cell_type": "code",
      "source": [
        "plt.figure()\n",
        "plt.imshow(img_newgray, cmap=plt.cm.gray)\n",
        "plt.figure()\n",
        "plt.imshow(img_newgray, cmap=plt.cm.Greys)"
      ],
      "metadata": {
        "id": "0b1-yY23Kvtd"
      },
      "execution_count": null,
      "outputs": []
    },
    {
      "cell_type": "markdown",
      "source": [],
      "metadata": {
        "id": "s3Jcd5zCPkhV"
      }
    }
  ]
}