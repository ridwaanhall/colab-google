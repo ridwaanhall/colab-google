{
  "nbformat": 4,
  "nbformat_minor": 0,
  "metadata": {
    "colab": {
      "private_outputs": true,
      "provenance": [],
      "authorship_tag": "ABX9TyMTPgmseuCkuK/+D/GEWu7g",
      "include_colab_link": true
    },
    "kernelspec": {
      "name": "python3",
      "display_name": "Python 3"
    },
    "language_info": {
      "name": "python"
    }
  },
  "cells": [
    {
      "cell_type": "markdown",
      "metadata": {
        "id": "view-in-github",
        "colab_type": "text"
      },
      "source": [
        "<a href=\"https://colab.research.google.com/github/ridwaanhall/colab-google/blob/main/kuliah/01_semester/01_algoritma_pemprograman_praktik/banksoal2.ipynb\" target=\"_parent\"><img src=\"https://colab.research.google.com/assets/colab-badge.svg\" alt=\"Open In Colab\"/></a>"
      ]
    },
    {
      "cell_type": "code",
      "source": [
        "# library\n",
        "import sqlite3\n",
        "\n",
        "# membuat koneksi ke dalam database\n",
        "conn = sqlite3.connect(\"DataSoal.db\")\n",
        "\n",
        "# query sql untuk membuat tabel\n",
        "query = '''\n",
        "CREATE TABLE tbl_banksoal(\n",
        "  nomor INT NOT NULL,\n",
        "  soal TEXT NOT NULL,\n",
        "  jawabBenar TEXT NOT NULL,\n",
        "  jawabSalah TEXT NOT NULL\n",
        ")\n",
        "'''\n",
        "\n",
        "# menjalankan query\n",
        "conn.execute(query)\n",
        "\n",
        "# menutup koneksi\n",
        "conn.close()"
      ],
      "metadata": {
        "id": "nVR1KH-BOQn0"
      },
      "execution_count": null,
      "outputs": []
    },
    {
      "cell_type": "code",
      "source": [
        "def menu():\n",
        "  print (\"<<<<<PILIH DENGAN MEMASUKKAN ANGKA>>>>>\")\n",
        "  print (\"1. Mengerjakan Soal Acak\")\n",
        "  print (\"2. Melihat sebagian Soal dan jawaban\")\n",
        "  print (\"3. Melihat Semua Soal dan jawaban\")\n",
        "  print (\"\")\n",
        "\n",
        "# library\n",
        "import sqlite3\n",
        "import os\n",
        "# membuat koneksi ke dalam database\n",
        "conn = sqlite3.connect(\"DataSoal.db\")\n",
        "# membuat data ke database\n",
        "conn.execute(\"INSERT INTO tbl_banksoal(nomor,soal,jawabbenar,jawabSalah) VALUES (1,'1+1 =','2','3');\")\n",
        "conn.execute(\"INSERT INTO tbl_banksoal(nomor,soal,jawabbenar,jawabSalah) VALUES (2,'1+3 =','4','5');\")\n",
        "conn.execute(\"INSERT INTO tbl_banksoal(nomor,soal,jawabbenar,jawabSalah) VALUES (3,'6+4 =','10','9');\")\n",
        "# commit\n",
        "conn.commit()\n",
        "# tutup koneksi\n",
        "conn.close()\n",
        "\n",
        "def soal():\n",
        "  print(\"<<<<<Soal acak>>>>>\")\n",
        "  # library\n",
        "  import sqlite3\n",
        "  import random\n",
        "  import os\n",
        "  # membuat koneksi ke dalam database\n",
        "  conn = sqlite3.connect(\"DataSoal.db\")\n",
        "  #alokasi soal-soal\n",
        "  soal1 = \"1+1 = A. 2  B. 1   Jawab \"\n",
        "  soal2 = \"1+3 = A. 5  B. 4   Jawab \"\n",
        "  soal3 = \"6+4 = A. 6  B. 10  Jawab \"\n",
        "\n",
        "  kumpulansoal = [soal2,soal1,soal3]\n",
        "  acak = random.choice(kumpulansoal)\n",
        "  urutsoal = 0+1\n",
        "  print(\"No\",urutsoal,\".\",acak)\n",
        "\n",
        "  for x in kumpulansoal:\n",
        "    if x == acak:\n",
        "      continue\n",
        "    urutsoal = urutsoal+1\n",
        "    print(\"No\",urutsoal,\".\",acak)\n",
        "\n",
        "################\n",
        "\n",
        "\n",
        "\n",
        "#Program Utama\n",
        "print (\"SELAMAT DATANG DI BANK SOAL\")\n",
        "print (\"-----------------------------------------------\")\n",
        "menu()\n",
        "pilih = int(input(\"Masukkan pilihan : \"))\n",
        "\n",
        "if pilih == 1:\n",
        "    soal()\n",
        "elif pilih == 2:\n",
        "    asda()\n",
        "elif pilih == 3:\n",
        "    trapesium()\n",
        "elif pilih == 4:\n",
        "    jajargenjang()\n",
        "elif pilih == 5:\n",
        "    bola()\n",
        "elif pilih == 6:\n",
        "    kerucut()\n",
        "else :\n",
        "    print (\"Ngantuk mas broooo\")\n",
        ""
      ],
      "metadata": {
        "id": "JpWmVFIROZ47"
      },
      "execution_count": null,
      "outputs": []
    },
    {
      "cell_type": "code",
      "source": [
        "  if soal1 == \"A\" or soal1 == \"a\":\n",
        "    print(\"jawaban anda benar\")\n",
        "  elif soal1 == \"B\" or soal1 == \"b\":\n",
        "    print(\"jawaban anda salah\")\n",
        "  else:\n",
        "    print(\"isi jawaban A atau B\")\n",
        "\n",
        "  if soal2 == \"B\" or soal1 == \"b\":\n",
        "    print(\"jawaban anda benar\")\n",
        "  elif soal2 == \"A\" or soal1 == \"A\":\n",
        "    print(\"jawaban anda salah\")\n",
        "  else:\n",
        "    print(\"isi jawaban A atau B\")\n",
        "\n",
        "  if soal3 == \"B\" or soal1 == \"b\":\n",
        "    print(\"jawaban anda benar\")\n",
        "  elif soal3 == \"A\" or soal1 == \"a\":\n",
        "    print(\"jawaban anda salah\")\n",
        "  else:\n",
        "    print(\"isi jawaban A atau B\")"
      ],
      "metadata": {
        "id": "edPRVD2IauIR"
      },
      "execution_count": null,
      "outputs": []
    }
  ]
}