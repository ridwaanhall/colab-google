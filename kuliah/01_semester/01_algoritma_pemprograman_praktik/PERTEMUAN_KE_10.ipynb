{
  "nbformat": 4,
  "nbformat_minor": 0,
  "metadata": {
    "colab": {
      "private_outputs": true,
      "provenance": [],
      "authorship_tag": "ABX9TyOlb+7Wow0meMgIvpfm10NK",
      "include_colab_link": true
    },
    "kernelspec": {
      "name": "python3",
      "display_name": "Python 3"
    },
    "language_info": {
      "name": "python"
    }
  },
  "cells": [
    {
      "cell_type": "markdown",
      "metadata": {
        "id": "view-in-github",
        "colab_type": "text"
      },
      "source": [
        "<a href=\"https://colab.research.google.com/github/ridwaanhall/colab-google/blob/main/kuliah/01_semester/01_algoritma_pemprograman_praktik/PERTEMUAN_KE_10.ipynb\" target=\"_parent\"><img src=\"https://colab.research.google.com/assets/colab-badge.svg\" alt=\"Open In Colab\"/></a>"
      ]
    },
    {
      "cell_type": "markdown",
      "source": [
        "#Database menggunakan SQLite\n",
        "library sqlite3\n",
        "Praktek\n",
        "\n",
        "CRUD (create read update delete)"
      ],
      "metadata": {
        "id": "i6HikfpfileJ"
      }
    },
    {
      "cell_type": "markdown",
      "source": [
        "##Membuat tabel"
      ],
      "metadata": {
        "id": "bX8_O7Uhiyyo"
      }
    },
    {
      "cell_type": "code",
      "source": [
        "# library\n",
        "import sqlite3\n",
        "\n",
        "# membuat koneksi ke dalam database\n",
        "conn = sqlite3.connect(\"test.db\")\n",
        "\n",
        "# query sql untuk membuat tabel\n",
        "# NAMA KOLOM NYA : ID, TIPE DATA\n",
        "#VARCHAR\n",
        "query = '''\n",
        "CREATE TABLE tbl_makanan(\n",
        "  id INT NOT NULL,\n",
        "  nama TEXT NOT NULL,\n",
        "  harga INT\n",
        ")\n",
        "'''\n",
        "\n",
        "# menjalankan/mengirim query\n",
        "conn.execute(query)\n",
        "\n",
        "# menutup koneksi\n",
        "conn.close()"
      ],
      "metadata": {
        "id": "keGAlOb6i7ES"
      },
      "execution_count": null,
      "outputs": []
    },
    {
      "cell_type": "markdown",
      "source": [
        "## Memasukkan data (CREATE)"
      ],
      "metadata": {
        "id": "-TMV_c3smDp9"
      }
    },
    {
      "cell_type": "code",
      "source": [
        "# library\n",
        "import sqlite3\n",
        "\n",
        "# membuat koneksi ke dalam database\n",
        "conn = sqlite3.connect(\"test.db\")\n",
        "\n",
        "# query untuk memasukkan data\n",
        "query = '''\n",
        "INSERT INTO tbl_makanan(id,nama,harga)\n",
        "VALUES (1,'Roti Bakar',15000)\n",
        "'''\n",
        "\n",
        "# Menjalankan query tanpa mengubah didalamnya\n",
        "conn.execute(query)\n",
        "\n",
        "query = '''\n",
        "INSERT INTO tbl_makanan(id,nama,harga)\n",
        "VALUES (2,'Pisang Goreng',10000)\n",
        "'''\n",
        "# Menjalankan query tanpa mengubah didalamnya\n",
        "conn.execute(query)\n",
        "\n",
        "query = '''\n",
        "INSERT INTO tbl_makanan(id,nama)\n",
        "VALUES (3,'Cilok',)\n",
        "'''\n",
        "# Menjalankan query tanpa mengubah didalamnya\n",
        "conn.execute(query)\n",
        "\n",
        "# commit\n",
        "#konfirmasi dari kita unutk setuju melakukan perubahan\n",
        "conn.commit()\n",
        "\n",
        "# tutup koneksi\n",
        "conn.close()"
      ],
      "metadata": {
        "id": "gjThg7-pmJsf"
      },
      "execution_count": null,
      "outputs": []
    },
    {
      "cell_type": "markdown",
      "source": [
        "## Membaca tabel (READ)"
      ],
      "metadata": {
        "id": "2MR46XD3n5ck"
      }
    },
    {
      "cell_type": "code",
      "source": [
        "# library\n",
        "import sqlite3\n",
        "\n",
        "# membuat koneksi ke dalam database\n",
        "conn = sqlite3.connect(\"test.db\")\n",
        "\n",
        "# query untuk membaca tabel\n",
        "query = '''\n",
        "SELECT id,nama,harga FROM tbl_makanan\n",
        "'''\n",
        "\n",
        "# Menjalankan query\n",
        "conn.execute(query)\n",
        "\n",
        "# melihat data tabel\n",
        "print(cursor.fetchall())\n",
        "\n",
        "# tutup koneksi\n",
        "conn.close()"
      ],
      "metadata": {
        "id": "dxWX4OdDn-LR"
      },
      "execution_count": null,
      "outputs": []
    },
    {
      "cell_type": "code",
      "source": [
        "# library\n",
        "import sqlite3\n",
        "\n",
        "# membuat koneksi ke dalam database\n",
        "conn = sqlite3.connect(\"test.db\")\n",
        "\n",
        "# query untuk membaca tabel\n",
        "query = '''\n",
        "SELECT id,nama,harga FROM tbl_makanan\n",
        "'''\n",
        "\n",
        "# menjalankan query\n",
        "cursor = conn.execute(query)\n",
        "\n",
        "# iterasi terhadap curosr\n",
        "for baris in cursor:\n",
        "  print(\"id = \", baris[0)\n",
        "  print(\"nama = \", baris[1)\n",
        "  print(\"harga = \", baris[2)\n",
        "  print()\n",
        "\n",
        "# tutup koneksi\n",
        "conn.close()\n",
        "\n",
        "# tutup koneksi\n",
        "conn.close()"
      ],
      "metadata": {
        "id": "_RLUgaA5qw8n"
      },
      "execution_count": null,
      "outputs": []
    },
    {
      "cell_type": "code",
      "source": [
        "# library\n",
        "import sqlite3\n",
        "\n",
        "# membuat koneksi ke dalam database\n",
        "conn = sqlite3.connect(\"test.db\")\n",
        "\n",
        "# query untuk membaca tabel\n",
        "query = '''\n",
        "SELECT id,nama,harga FROM tbl_makanan WHERE id=2\n",
        "'''\n",
        "\n",
        "# menjalankan query\n",
        "cursor = conn.execute(query)\n",
        "\n",
        "# iterasi terhadap curosr\n",
        "for baris in cursor:\n",
        "  print(\"id = \", baris[0)\n",
        "  print(\"nama = \", baris[1)\n",
        "  print(\"harga = \", baris[2)\n",
        "  print()\n",
        "\n",
        "# tutup koneksi\n",
        "conn.close()"
      ],
      "metadata": {
        "id": "0XlncfKIr7JN"
      },
      "execution_count": null,
      "outputs": []
    },
    {
      "cell_type": "markdown",
      "source": [
        "## Mengubah data (UPDATE)"
      ],
      "metadata": {
        "id": "lhqvxxzHsr-w"
      }
    },
    {
      "cell_type": "code",
      "source": [
        "# library\n",
        "import sqlite3\n",
        "\n",
        "# membuat koneksi ke dalam database\n",
        "conn = sqlite3.connect(\"test.db\")\n",
        "\n",
        "# query untuk membaca tabel\n",
        "query = '''\n",
        "UPDATE tbl_makanan SET harga = 5000 WHERE id = 3\n",
        "'''\n",
        "\n",
        "# jalankan\n",
        "conn.execute(query)\n",
        "\n",
        "# commit\n",
        "conn.commit()\n",
        "\n",
        "#################################################\n",
        "#menampilkan\n",
        "\n",
        "# query baca\n",
        "query_baca = '''\n",
        "SELECT id,nama,harga FROM tbl_makanan\n",
        "'''\n",
        "\n",
        "# Jalankan\n",
        "conn.execute(query_baca)\n",
        "\n",
        "# iterasi terhadap curosr\n",
        "for baris in cursor:\n",
        "  print(\"id = \", baris[0)\n",
        "  print(\"nama = \", baris[1)\n",
        "  print(\"harga = \", baris[2)\n",
        "  print()\n",
        "\n",
        "# tutup koneksi\n",
        "conn.close()"
      ],
      "metadata": {
        "id": "JfGf1FRlsyIP"
      },
      "execution_count": null,
      "outputs": []
    },
    {
      "cell_type": "markdown",
      "source": [
        "## Menghapus data (DELETE)"
      ],
      "metadata": {
        "id": "xDgiI8lLuUo0"
      }
    },
    {
      "cell_type": "code",
      "source": [
        "# library\n",
        "import sqlite3\n",
        "\n",
        "# membuat koneksi ke dalam database\n",
        "conn = sqlite3.connect(\"test.db\")\n",
        "\n",
        "# query untuk menghapus\n",
        "query = '''\n",
        "DELETE FROM tbl_makanan WHERE id = 2\n",
        "'''\n",
        "\n",
        "# jalankan\n",
        "conn.execute(query)\n",
        "\n",
        "# commit\n",
        "conn.commit()\n",
        "\n",
        "#####################################################################\n",
        "# query baca\n",
        "query_baca = '''\n",
        "SELECT id,nama,harga FROM tbl_makanan\n",
        "'''\n",
        "\n",
        "# Jalankan\n",
        "conn.execute(query_baca)\n",
        "\n",
        "# iterasi terhadap curosr\n",
        "for baris in cursor:\n",
        "  print(\"id = \", baris[0)\n",
        "  print(\"nama = \", baris[1)\n",
        "  print(\"harga = \", baris[2)\n",
        "  print()\n",
        "\n",
        "# tutup koneksi\n",
        "conn.close()"
      ],
      "metadata": {
        "id": "QqVH9JH2uaWF"
      },
      "execution_count": null,
      "outputs": []
    },
    {
      "cell_type": "markdown",
      "source": [
        "Inti dari operasi CRUD python sqlite:\n",
        "\n",
        "1. Buka koneksi ke database\n",
        "2 . buat query\n",
        "3. jalankan query\n",
        "4. commit (untuk creat, update, delete)\n",
        "5. ambil data (untuk read)\n",
        "6. butuh koneksi"
      ],
      "metadata": {
        "id": "2V9sqUe4vhpv"
      }
    },
    {
      "cell_type": "markdown",
      "source": [
        "# Tugas Latihan\n",
        "\n",
        "buat database sqlite yang berisi data mahasiswa (NIM, Nama, Alamat,Nilai,dll). aplikasikan CRUD ke dalamnya."
      ],
      "metadata": {
        "id": "BORh8IZBwOkF"
      }
    }
  ]
}