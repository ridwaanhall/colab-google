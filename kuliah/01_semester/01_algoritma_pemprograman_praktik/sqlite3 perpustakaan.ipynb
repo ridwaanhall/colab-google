{
  "nbformat": 4,
  "nbformat_minor": 0,
  "metadata": {
    "colab": {
      "private_outputs": true,
      "provenance": [],
      "authorship_tag": "ABX9TyMcm6lHVoGK3S5DXqXeLSZ8",
      "include_colab_link": true
    },
    "kernelspec": {
      "name": "python3",
      "display_name": "Python 3"
    },
    "language_info": {
      "name": "python"
    }
  },
  "cells": [
    {
      "cell_type": "markdown",
      "metadata": {
        "id": "view-in-github",
        "colab_type": "text"
      },
      "source": [
        "<a href=\"https://colab.research.google.com/github/ridwaanhall/colab-google/blob/main/kuliah/01_semester/01_algoritma_pemprograman_praktik/sqlite3%20perpustakaan.ipynb\" target=\"_parent\"><img src=\"https://colab.research.google.com/assets/colab-badge.svg\" alt=\"Open In Colab\"/></a>"
      ]
    },
    {
      "cell_type": "code",
      "execution_count": null,
      "metadata": {
        "id": "bC4HK2eRnhOW"
      },
      "outputs": [],
      "source": [
        "# library\n",
        "import sqlite3\n",
        "\n",
        "# membuat koneksi ke dalam database\n",
        "conn = sqlite3.connect(\"test.db\")\n",
        "\n",
        "# query sql untuk membuat tabel\n",
        "query = '''\n",
        "CREATE TABLE tabel_perpustakaan(\n",
        "  ISBN INT NOT NULL,\n",
        "  Judul TEXT NOT NULL,\n",
        "  Pengarang TEXT NOT NULL,\n",
        "  Penerbit TEXT NOT NULL,\n",
        "  TahunTerbit INT NOT NULL,\n",
        "  Kategori TEXT NOT NULL,\n",
        "  Jumlah INT NOT NULL\n",
        ")\n",
        "'''\n",
        "\n",
        "# menjalankan query\n",
        "conn.execute(query)\n",
        "\n",
        "# menutup koneksi\n",
        "conn.close()"
      ]
    },
    {
      "cell_type": "code",
      "source": [
        "# library\n",
        "import sqlite3\n",
        "import os\n",
        "import pandas as pd\n",
        "# membuat koneksi ke dalam database\n",
        "conn = sqlite3.connect(\"test.db\")\n",
        "\n",
        "def inputData():\n",
        "\n",
        "  ISBN       =[]\n",
        "  JUDUL      =[]\n",
        "  PENGARANG  =[]\n",
        "  PENERBIT   =[]\n",
        "  THN_TERBIT =[]\n",
        "  KATEGORI   =[]\n",
        "  JUMLAH     =[]\n",
        "\n",
        "  a = input(\"ISBN        : \")\n",
        "  ISBN.appened(a)\n",
        "  b = input(\"Judul       : \")\n",
        "  JUDUL.appened(b)\n",
        "  c = input(\"Pengarang   : \")\n",
        "  PENGARANG.appened(c)\n",
        "  d = input(\"penerbit    : \")\n",
        "  PENERBIT.appened(d)\n",
        "  e = input(\"TahunTerbit : \")\n",
        "  THN_TERBIT.appened(e)\n",
        "  f = input(\"kategori    : \")\n",
        "  KATEGORI.appened(f)\n",
        "  g = input(\"Jumlah      : \")\n",
        "  JUMLAH.appened(g)\n",
        "\n",
        "  conn.execute(inputData())\n",
        "\n",
        "lagi=\"Y\"\n",
        "while lagi==\"Y\" or lagi==\"y\":\n",
        "  os.system('cls')\n",
        "  inputData()\n",
        "  print()\n",
        "  lagi=input(\"Tambah Data lagi [Y/T] : \")\n",
        "\n",
        "data = {'ISBN' : ISBN,'Judul' : JUDUL,'Pengarang' : PENGARANG,'Penerbit' : PENERBIT,'Tahun Terbit' : THN_TERBIT,'Jumlah' : JUMLAH}\n",
        "\n",
        "df=pd.DataFrame(data)\n",
        "df\n",
        "\n",
        "df.to_csv(\"tugas kelompok.csv\",index=False)\n",
        "\n",
        "# singkatnya\n",
        "# conn.execute(\"INSERT INTO tbl_makanan(id,nama) VALUES (3,'Cilok');\")\n",
        "\n",
        "# commit\n",
        "conn.commit()\n",
        "\n",
        "# tutup koneksi\n",
        "conn.close()\n"
      ],
      "metadata": {
        "id": "E8-FzisrnswC"
      },
      "execution_count": null,
      "outputs": []
    },
    {
      "cell_type": "code",
      "source": [
        "# library\n",
        "import sqlite3\n",
        "\n",
        "# membuat koneksi ke dalam database\n",
        "conn = sqlite3.connect(\"test.db\")\n",
        "\n",
        "# query untuk membaca tabel\n",
        "query = '''\n",
        "SELECT ISBN, Judul, Pengarang, Penerbit, TahunTerbit, Kategori, Jumlah FROM tabel_perpustakaan\n",
        "'''\n",
        "\n",
        "# menjalankan query\n",
        "cursor = conn.execute(query)\n",
        "\n",
        "# melihat data tabel\n",
        "print(cursor.fetchall())\n",
        "\n",
        "# tutup koneksi\n",
        "conn.close()"
      ],
      "metadata": {
        "id": "RsfyOlHdnveO"
      },
      "execution_count": null,
      "outputs": []
    },
    {
      "cell_type": "code",
      "source": [
        "# library\n",
        "import sqlite3\n",
        "\n",
        "# membuat koneksi ke dalam database\n",
        "conn = sqlite3.connect(\"test.db\")\n",
        "\n",
        "# query untuk membaca tabel\n",
        "query = '''\n",
        "SELECT ISBN, Judul, Pengarang, Penerbit, TahunTerbit, Kategori, Jumlah FROM tabel_perpustakaan\n",
        "'''\n",
        "\n",
        "# menjalankan query\n",
        "cursor = conn.execute(query)\n",
        "\n",
        "# iterasi terhadap cursor\n",
        "for baris in cursor:\n",
        "  print(\"ISBN        =\",baris[0])\n",
        "  print(\"Judul       =\",baris[1])\n",
        "  print(\"Pengarang   =\",baris[2])\n",
        "  print(\"penerbit    =\",baris[3])\n",
        "  print(\"TahunTerbit =\",baris[4])\n",
        "  print(\"kategori    =\",baris[5])\n",
        "  print(\"Jumlah      =\",baris[4])\n",
        "  print()\n",
        "\n",
        "\n",
        "\n",
        "# tutup koneksi\n",
        "conn.close()"
      ],
      "metadata": {
        "id": "dZILa7HCnx9Y"
      },
      "execution_count": null,
      "outputs": []
    }
  ]
}