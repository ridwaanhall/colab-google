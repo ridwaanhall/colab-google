{
  "nbformat": 4,
  "nbformat_minor": 0,
  "metadata": {
    "colab": {
      "private_outputs": true,
      "provenance": [],
      "authorship_tag": "ABX9TyMKHCm0bdGO00+znpMR1nUs",
      "include_colab_link": true
    },
    "kernelspec": {
      "name": "python3",
      "display_name": "Python 3"
    },
    "language_info": {
      "name": "python"
    }
  },
  "cells": [
    {
      "cell_type": "markdown",
      "metadata": {
        "id": "view-in-github",
        "colab_type": "text"
      },
      "source": [
        "<a href=\"https://colab.research.google.com/github/ridwaanhall/colab-google/blob/main/kuliah/01_semester/01_algoritma_pemprograman_praktik/bank%20soal%20data%20soal%20buku.ipynb\" target=\"_parent\"><img src=\"https://colab.research.google.com/assets/colab-badge.svg\" alt=\"Open In Colab\"/></a>"
      ]
    },
    {
      "cell_type": "code",
      "source": [
        "# library\n",
        "import sqlite3\n",
        "\n",
        "# membuat koneksi ke dalam database\n",
        "conn = sqlite3.connect(\"DataSoal.db\")\n",
        "\n",
        "# query sql untuk membuat tabel\n",
        "query = '''\n",
        "CREATE TABLE banksoal(\n",
        "  Nomor INT NOT NULL,\n",
        "  Soal TEXT NOT NULL,\n",
        "  Jawab1 TEXT NOT NULL,\n",
        "  Jawab2 TEXT NOT NULL,\n",
        "  Jawab3 TEXT NOT NULL,\n",
        "  JawabBenar TEXT NOT NULL\n",
        ")\n",
        "'''\n",
        "\n",
        "# menjalankan query\n",
        "conn.execute(query)\n",
        "\n",
        "# menutup koneksi\n",
        "conn.close()"
      ],
      "metadata": {
        "id": "eVEE18WC9Eqy"
      },
      "execution_count": null,
      "outputs": []
    },
    {
      "cell_type": "code",
      "source": [
        "import sqlite3\n",
        "conn = sqlite3.connect(\"DataSoal.db\")\n",
        "\n",
        "def masuk():\n",
        "  print('<<<MASUKKAN INPUT DATA BUKU>>>')\n",
        "  print('Untuk Judul, Pengarang, Penerbit, dan Kategori masukkan input dengan tanda kutip (\\'...\\')')\n",
        "\n",
        "  a = int(input(\"Masukkan nomor soal\"))\n",
        "  b = input(\"Masukkan soal\")\n",
        "  c = input(\"Jawaban 1\")\n",
        "  d = input(\"Jawaban 2 \")\n",
        "  e = input(\"Jawaban 3 \")\n",
        "  f = input(\"Jawaban benar dari 1,2,3 \")\n",
        "  query = f'''\n",
        "  INSERT INTO banksoal(Nomor, Soal, Jawab1, Jawab2, Jawab3, JawabBenar)\n",
        "  VALUES (?,?,?,?,?,?)\n",
        "  '''\n",
        "  vl = (a,b,c,d,e,f)\n",
        "  # mengkoneksikan\n",
        "  conn.execute(query,vl)\n",
        "\n",
        "lagi=\"Y\"\n",
        "while lagi==\"Y\" or lagi==\"y\":\n",
        "  masuk()\n",
        "  print()\n",
        "  lagi=input(\"Tambah Data lagi [Y/T] : \")\n",
        "  print('')\n",
        "\n",
        "conn.commit()\n",
        "conn.close"
      ],
      "metadata": {
        "id": "GRrOmwoJ9HJK"
      },
      "execution_count": null,
      "outputs": []
    },
    {
      "cell_type": "code",
      "source": [
        "import sqlite3\n",
        "\n",
        "# membuat koneksi ke dalam database\n",
        "conn = sqlite3.connect(\"DataSoal.db\")\n",
        "\n",
        "# query untuk membaca tabel\n",
        "query = '''\n",
        "SELECT Nomor, Soal, Jawab1, Jawab2, Jawab3, JawabBenar FROM banksoal\n",
        "'''\n",
        "\n",
        "# menjalankan query\n",
        "cursor = conn.execute(query)\n",
        "\n",
        "# iterasi terhadap cursor\n",
        "for baris in cursor:\n",
        "  print(\"Nomor         =\",baris[0])\n",
        "  print(\"Soal          =\",baris[1])\n",
        "  print(\"Jawaban 1     =\",baris[2])\n",
        "  print(\"Jawaban 2     =\",baris[3])\n",
        "  print(\"Jawaban 3     =\",baris[4])\n",
        "  print(\"Jawaban Benar =\",baris[5])\n",
        "\n",
        "\n",
        "\n",
        "# tutup koneksi\n",
        "conn.close()"
      ],
      "metadata": {
        "id": "I1RnLv3C9JTx"
      },
      "execution_count": null,
      "outputs": []
    },
    {
      "cell_type": "code",
      "source": [
        "# library\n",
        "import sqlite3\n",
        "import random as ran\n",
        "# membuat koneksi ke dalam database\n",
        "conn = sqlite3.connect(\"DataSoal.db\")\n",
        "\n",
        "def soal_soal():\n",
        "  # query untuk membaca tabel\n",
        "  query = '''\n",
        "  SELECT Soal, Jawab1, Jawab2, Jawab3, JawabBenar FROM banksoal\n",
        "  '''\n",
        "\n",
        "  # menjalankan query\n",
        "  cursor = conn.execute(query)\n",
        "\n",
        "  # iterasi terhadap cursor\n",
        "  nilai = 0\n",
        "  urut = 0\n",
        "  for baris in cursor:\n",
        "\n",
        "    urut = urut+1\n",
        "    print(urut,\".\", baris[0])\n",
        "    print(\"   A.\",baris[1])\n",
        "    print(\"   B.\",baris[2])\n",
        "    print(\"   C.\",baris[3])\n",
        "    jawab = input(\"   Jawab [A/B/C] : \")\n",
        "    jwb = \"\"\n",
        "    if jawab == \"A\" or jawab == \"a\":\n",
        "      jwb = baris[1]\n",
        "    elif jawab == \"B\" or jawab == \"b\":\n",
        "      jwb = baris[2]\n",
        "    elif jawab == \"C\" or jawab == \"c\":\n",
        "      jwb = baris[3]\n",
        "    print(\"\")\n",
        "    print(\"   yang anda jawab :\",jwb)\n",
        "    print(\"   yang benar      :\",baris[4])\n",
        "    print(\"\")\n",
        "    if jwb == baris[4]:\n",
        "      nilai +=1\n",
        "\n",
        "  print(\"\")\n",
        "  print(\"total nilai adalah\", nilai)\n",
        "\n",
        "# tutup koneksi\n",
        "  conn.close()\n",
        "\n",
        "soal_soal()"
      ],
      "metadata": {
        "id": "qF7vgzvl9Lc6"
      },
      "execution_count": null,
      "outputs": []
    }
  ]
}