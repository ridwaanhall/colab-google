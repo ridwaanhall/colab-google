{
  "nbformat": 4,
  "nbformat_minor": 0,
  "metadata": {
    "colab": {
      "provenance": [],
      "authorship_tag": "ABX9TyNhHpxjDlm0PLfq3zfb7ryZ",
      "include_colab_link": true
    },
    "kernelspec": {
      "name": "python3",
      "display_name": "Python 3"
    },
    "language_info": {
      "name": "python"
    }
  },
  "cells": [
    {
      "cell_type": "markdown",
      "metadata": {
        "id": "view-in-github",
        "colab_type": "text"
      },
      "source": [
        "<a href=\"https://colab.research.google.com/github/ridwaanhall/colab-google/blob/main/kuliah/01_semester/01_algoritma_pemprograman_praktik/01_arisan_adil.ipynb\" target=\"_parent\"><img src=\"https://colab.research.google.com/assets/colab-badge.svg\" alt=\"Open In Colab\"/></a>"
      ]
    },
    {
      "cell_type": "code",
      "execution_count": null,
      "metadata": {
        "colab": {
          "base_uri": "https://localhost:8080/"
        },
        "id": "p_HFN6ey5MCB",
        "outputId": "802c696d-668f-407a-d187-2e4ae7ce7751"
      },
      "outputs": [
        {
          "output_type": "stream",
          "name": "stdout",
          "text": [
            "Arisan 1\n",
            "Yang mendapatkan arisan adalah  Umar bin Khattab\n",
            "Arisan 2\n",
            "Yang mendapatkan arisan adalah  Abu Bakr\n",
            "Arisan 3\n",
            "Yang mendapatkan arisan adalah  Utsman bin 'Affan\n",
            "Arisan 4\n",
            "Yang mendapatkan arisan adalah  Ali bin Abi Tholib\n"
          ]
        }
      ],
      "source": [
        "# RIDWAN HALIM\n",
        "# 5210411257\n",
        "# 12-12-2021\n",
        "\n",
        "#RANDOM\n",
        "import random\n",
        "orang = [\"Abu Bakr\",\"Umar bin Khattab\",\"Utsman bin 'Affan\",\"Ali bin Abi Tholib\"]\n",
        "org = random.choice(orang)\n",
        "arisan = 0+1\n",
        "\n",
        "print(\"Arisan\", arisan)\n",
        "print(\"Yang mendapatkan arisan adalah \", org)\n",
        "\n",
        "for x in orang:\n",
        "    if  x == org:\n",
        "        continue\n",
        "    arisan = arisan+1\n",
        "    print(\"Arisan\", arisan)\n",
        "    print(\"Yang mendapatkan arisan adalah \", x)"
      ]
    }
  ]
}