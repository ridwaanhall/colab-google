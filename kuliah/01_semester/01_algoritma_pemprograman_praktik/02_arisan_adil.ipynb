{
  "nbformat": 4,
  "nbformat_minor": 0,
  "metadata": {
    "colab": {
      "private_outputs": true,
      "provenance": [],
      "cell_execution_strategy": "setup",
      "authorship_tag": "ABX9TyMqm45NF0KcxOEesnvYnxa2",
      "include_colab_link": true
    },
    "kernelspec": {
      "name": "python3",
      "display_name": "Python 3"
    },
    "language_info": {
      "name": "python"
    }
  },
  "cells": [
    {
      "cell_type": "markdown",
      "metadata": {
        "id": "view-in-github",
        "colab_type": "text"
      },
      "source": [
        "<a href=\"https://colab.research.google.com/github/ridwaanhall/colab-google/blob/main/kuliah/01_semester/01_algoritma_pemprograman_praktik/02_arisan_adil.ipynb\" target=\"_parent\"><img src=\"https://colab.research.google.com/assets/colab-badge.svg\" alt=\"Open In Colab\"/></a>"
      ]
    },
    {
      "cell_type": "markdown",
      "source": [
        "# Tugas Latihan\n",
        "\n",
        "Membuat program simulasi arisan sederhana. Aturan:\n",
        "\n",
        "* Ada sekumpulan orang, jumlah bebas.\n",
        "* Tiap pertemuan, ada 1 orang anggota yang mendapat arisan.\n",
        "* Yang sudah mendapat arisan, tidak boleh mendapat lagi\n",
        "* Simulasikan sampai semua orang mendapat arisan"
      ],
      "metadata": {
        "id": "ZYzu-u-B8eNL"
      }
    },
    {
      "cell_type": "code",
      "execution_count": null,
      "metadata": {
        "id": "qjRmk1fL6dyc"
      },
      "outputs": [],
      "source": [
        "# RIDWAN HALIM\n",
        "# 5210411257\n",
        "# 12-12-2021\n",
        "\n",
        "#RANDOM\n",
        "import random\n",
        "orang = [\"Abu Bakr\",\"Umar bin Khattab\",\"Utsman bin 'Affan\",\"Ali bin Abi Tholib\"]\n",
        "org = random.choice(orang)\n",
        "arisan = 0+1\n",
        "\n",
        "print(\"Arisan\", arisan)\n",
        "print(\"Yang mendapatkan arisan adalah \", org)\n",
        "\n",
        "for x in orang:\n",
        "    if  x == org:\n",
        "        continue\n",
        "    arisan = arisan+1\n",
        "    print(\"Arisan\", arisan)\n",
        "    print(\"Yang mendapatkan arisan adalah \", x)"
      ]
    }
  ]
}