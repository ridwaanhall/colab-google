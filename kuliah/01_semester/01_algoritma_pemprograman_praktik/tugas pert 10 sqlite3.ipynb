{
  "nbformat": 4,
  "nbformat_minor": 0,
  "metadata": {
    "colab": {
      "private_outputs": true,
      "provenance": [],
      "authorship_tag": "ABX9TyMWx7KEFhXX1+wKtBPHVOBD",
      "include_colab_link": true
    },
    "kernelspec": {
      "name": "python3",
      "display_name": "Python 3"
    },
    "language_info": {
      "name": "python"
    }
  },
  "cells": [
    {
      "cell_type": "markdown",
      "metadata": {
        "id": "view-in-github",
        "colab_type": "text"
      },
      "source": [
        "<a href=\"https://colab.research.google.com/github/ridwaanhall/colab-google/blob/main/kuliah/01_semester/01_algoritma_pemprograman_praktik/tugas%20pert%2010%20sqlite3.ipynb\" target=\"_parent\"><img src=\"https://colab.research.google.com/assets/colab-badge.svg\" alt=\"Open In Colab\"/></a>"
      ]
    },
    {
      "cell_type": "markdown",
      "source": [
        "#TUGAS\n",
        "\n",
        "Buatlah sebuah database sqlite yang berisi data mahasiswa (NIM,Nama,Alamat,Nilai,dll). Kemudian aplikasikan CRUD ke dalamnya."
      ],
      "metadata": {
        "id": "kjhebCkQy1km"
      }
    },
    {
      "cell_type": "markdown",
      "source": [
        "## Membuat tabel"
      ],
      "metadata": {
        "id": "7wajDAZXzC59"
      }
    },
    {
      "cell_type": "code",
      "source": [
        "# library\n",
        "import sqlite3\n",
        "\n",
        "# membuat koneksi ke dalam database\n",
        "conn = sqlite3.connect(\"data mahasiswa.db\")\n",
        "\n",
        "# query sql untuk membuat tabel\n",
        "query = '''\n",
        "CREATE TABLE tbl_datamhs(\n",
        "  NIM INT NOT NULL,\n",
        "  Nama TEXT NOT NULL,\n",
        "  Alamat TEXT NOT NULL,\n",
        "  Nilai INT NOT NULL,\n",
        "  Keterangan TEXT\n",
        ")\n",
        "'''\n",
        "\n",
        "# menjalankan query\n",
        "conn.execute(query)\n",
        "\n",
        "# menutup koneksi\n",
        "conn.close()"
      ],
      "metadata": {
        "id": "8XHNwIVWzbrj"
      },
      "execution_count": null,
      "outputs": []
    },
    {
      "cell_type": "markdown",
      "source": [
        "## Memasukkan data (CREATE)"
      ],
      "metadata": {
        "id": "_kbfp6yq0gKk"
      }
    },
    {
      "cell_type": "code",
      "source": [
        "# library\n",
        "import sqlite3\n",
        "\n",
        "# membuat koneksi ke dalam database\n",
        "conn = sqlite3.connect(\"data mahasiswa.db\")\n",
        "\n",
        "## 1 query untuk memasukkan data\n",
        "query = '''\n",
        "INSERT INTO tbl_datamhs(NIM,Nama,Alamat,Nilai,Keterangan)\n",
        "VALUES (1001,'Abdul','Mazarredo Zumarkalea, 68, 48009 Bilbo, Bizkaia, Spain',80,'LULUS');\n",
        "'''\n",
        "# Menjalankan query\n",
        "conn.execute(query)\n",
        "\n",
        "## 2 query untuk memasukkan data\n",
        "query = '''\n",
        "INSERT INTO tbl_datamhs(NIM,Nama,Alamat,Nilai,Keterangan)\n",
        "VALUES (1002,'Jamal','3205 Sandridge Rd, Ilwaco, WA 98624, United States',20,'TDK LULUS');\n",
        "'''\n",
        "# Menjalankan query\n",
        "conn.execute(query)\n",
        "\n",
        "## 3 query untuk memasukkan data\n",
        "query = '''\n",
        "INSERT INTO tbl_datamhs(NIM,Nama,Alamat,Nilai)\n",
        "VALUES (1003,'Ucup','Etiler, 1268. Sk. 20 F, 35240 Konak/İzmir, Turkey',100);\n",
        "'''\n",
        "# Menjalankan query\n",
        "conn.execute(query)\n",
        "\n",
        "# commit\n",
        "conn.commit()\n",
        "\n",
        "# tutup koneksi\n",
        "conn.close()"
      ],
      "metadata": {
        "id": "ThoZ45Fn0l4x"
      },
      "execution_count": null,
      "outputs": []
    },
    {
      "cell_type": "markdown",
      "source": [
        "## Membaca tabel (READ)"
      ],
      "metadata": {
        "id": "33Lc_J4r6FNC"
      }
    },
    {
      "cell_type": "code",
      "source": [
        "# library\n",
        "import sqlite3\n",
        "\n",
        "# membuat koneksi ke dalam database\n",
        "conn = sqlite3.connect(\"data mahasiswa.db\")\n",
        "\n",
        "# query untuk membaca tabel\n",
        "query = '''\n",
        "SELECT NIM,Nama,Alamat,Nilai,Keterangan FROM tbl_datamhs\n",
        "'''\n",
        "\n",
        "# menjalankan query\n",
        "cursor = conn.execute(query)\n",
        "\n",
        "# melihat data tabel\n",
        "print(cursor.fetchall())\n",
        "\n",
        "# tutup koneksi\n",
        "conn.close()"
      ],
      "metadata": {
        "id": "rsRE63TU6IRQ"
      },
      "execution_count": null,
      "outputs": []
    },
    {
      "cell_type": "code",
      "source": [
        "##LITERASI TERHADAP CURSOR\n",
        "\n",
        "# library\n",
        "import sqlite3\n",
        "\n",
        "# membuat koneksi ke dalam database\n",
        "conn = sqlite3.connect(\"data mahasiswa.db\")\n",
        "\n",
        "# query untuk membaca tabel\n",
        "query = '''\n",
        "SELECT NIM,Nama,Alamat,Nilai,Keterangan FROM tbl_datamhs\n",
        "'''\n",
        "\n",
        "# menjalankan query\n",
        "cursor = conn.execute(query)\n",
        "\n",
        "# iterasi terhadap cursor\n",
        "for baris in cursor:\n",
        "  print(\"NIM        =\",baris[0])\n",
        "  print(\"Nama       =\",baris[1])\n",
        "  print(\"Alamat     =\",baris[2])\n",
        "  print(\"Nilai      =\",baris[3])\n",
        "  print(\"Keterangan =\",baris[4])\n",
        "  print()\n",
        "\n",
        "# tutup koneksi\n",
        "conn.close()"
      ],
      "metadata": {
        "id": "0vAeX0An8X3F"
      },
      "execution_count": null,
      "outputs": []
    },
    {
      "cell_type": "code",
      "source": [
        "##MEMILIH QUERY\n",
        "\n",
        "# library\n",
        "import sqlite3\n",
        "\n",
        "# membuat koneksi ke dalam database\n",
        "conn = sqlite3.connect(\"data mahasiswa.db\")\n",
        "\n",
        "# query untuk membaca tabel\n",
        "query = '''\n",
        "SELECT NIM,Nama,Alamat,Nilai,Keterangan FROM tbl_datamhs WHERE NIM = 1003\n",
        "'''\n",
        "\n",
        "# menjalankan query\n",
        "cursor = conn.execute(query)\n",
        "\n",
        "# iterasi terhadap cursor\n",
        "for baris in cursor:\n",
        "  print(\"NIM        =\",baris[0])\n",
        "  print(\"Nama       =\",baris[1])\n",
        "  print(\"Alamat     =\",baris[2])\n",
        "  print(\"Nilai      =\",baris[3])\n",
        "  print(\"Keterangan =\",baris[4])\n",
        "  print()\n",
        "\n",
        "# tutup koneksi\n",
        "conn.close()"
      ],
      "metadata": {
        "id": "9bR56hy4_pSP"
      },
      "execution_count": null,
      "outputs": []
    },
    {
      "cell_type": "markdown",
      "source": [
        "## Mengubah data (UPDATE)"
      ],
      "metadata": {
        "id": "lUm_0VUUAstO"
      }
    },
    {
      "cell_type": "code",
      "source": [
        "# library\n",
        "import sqlite3\n",
        "\n",
        "# membuat koneksi ke dalam database\n",
        "conn = sqlite3.connect(\"data mahasiswa.db\")\n",
        "\n",
        "# query untuk membaca tabel\n",
        "query = '''\n",
        "UPDATE tbl_datamhs SET Nilai = 40 WHERE NIM = 1002\n",
        "'''\n",
        "\n",
        "# jalankan\n",
        "conn.execute(query)\n",
        "\n",
        "# commit\n",
        "conn.commit()\n",
        "\n",
        "################################################\n",
        "\n",
        "# query baca\n",
        "query_baca = '''\n",
        "SELECT NIM,Nama,Alamat,Nilai,Keterangan FROM tbl_datamhs\n",
        "'''\n",
        "\n",
        "# jalankan\n",
        "cursor = conn.execute(query_baca)\n",
        "\n",
        "# iterasi terhadap cursor\n",
        "for baris in cursor:\n",
        "  print(\"NIM        =\",baris[0])\n",
        "  print(\"Nama       =\",baris[1])\n",
        "  print(\"Alamat     =\",baris[2])\n",
        "  print(\"Nilai      =\",baris[3])\n",
        "  print(\"Keterangan =\",baris[4])\n",
        "  print()\n",
        "\n",
        "# tutup koneksi\n",
        "conn.close()"
      ],
      "metadata": {
        "id": "qIp9Q3_xAwIS"
      },
      "execution_count": null,
      "outputs": []
    },
    {
      "cell_type": "markdown",
      "source": [
        "## Menghapus data (DELETE)"
      ],
      "metadata": {
        "id": "e9RTPi2cB1vl"
      }
    },
    {
      "cell_type": "code",
      "source": [
        "# library\n",
        "import sqlite3\n",
        "\n",
        "# membuat koneksi ke dalam database\n",
        "conn = sqlite3.connect(\"data mahasiswa.db\")\n",
        "\n",
        "# query untuk menghapus\n",
        "query = '''\n",
        "DELETE FROM tbl_datamhs WHERE NIM = 1001\n",
        "'''\n",
        "\n",
        "# jalankan\n",
        "conn.execute(query)\n",
        "\n",
        "# commit\n",
        "conn.commit()\n",
        "\n",
        "####################################\n",
        "\n",
        "# query baca\n",
        "query_baca = '''\n",
        "SELECT NIM,Nama,Alamat,Nilai,Keterangan FROM tbl_datamhs\n",
        "'''\n",
        "\n",
        "# jalankan\n",
        "cursor = conn.execute(query_baca)\n",
        "\n",
        "# iterasi terhadap cursor\n",
        "for baris in cursor:\n",
        "  print(\"NIM        = \",baris[0])\n",
        "  print(\"Nama       = \",baris[1])\n",
        "  print(\"Alamat     = \",baris[2])\n",
        "  print(\"Nilai      = \",baris[3])\n",
        "  print(\"Keterangan = \",baris[4])\n",
        "  print()\n",
        "\n",
        "# tutup koneksi\n",
        "conn.close()"
      ],
      "metadata": {
        "id": "wLQnQ1JqB5wQ"
      },
      "execution_count": null,
      "outputs": []
    }
  ]
}