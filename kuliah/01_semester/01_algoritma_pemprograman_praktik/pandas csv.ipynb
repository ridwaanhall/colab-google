{
  "nbformat": 4,
  "nbformat_minor": 0,
  "metadata": {
    "colab": {
      "private_outputs": true,
      "provenance": [],
      "authorship_tag": "ABX9TyMk8kL2H28KuqiriZs1HGUx",
      "include_colab_link": true
    },
    "kernelspec": {
      "name": "python3",
      "display_name": "Python 3"
    },
    "language_info": {
      "name": "python"
    }
  },
  "cells": [
    {
      "cell_type": "markdown",
      "metadata": {
        "id": "view-in-github",
        "colab_type": "text"
      },
      "source": [
        "<a href=\"https://colab.research.google.com/github/ridwaanhall/colab-google/blob/main/kuliah/01_semester/01_algoritma_pemprograman_praktik/pandas%20csv.ipynb\" target=\"_parent\"><img src=\"https://colab.research.google.com/assets/colab-badge.svg\" alt=\"Open In Colab\"/></a>"
      ]
    },
    {
      "cell_type": "code",
      "execution_count": null,
      "metadata": {
        "id": "m747XHdaLD5W"
      },
      "outputs": [],
      "source": [
        "import pandas as pd\n",
        "NIM=[]\n",
        "NAMA=[]\n",
        "ASAL=[]\n",
        "TINGGI=[]\n",
        "BERAT=[]\n",
        "n=int(input(\"MASUKAN JUMLAH SISWA : \"))\n",
        "x=1\n",
        "while x <= n:\n",
        "  x+=1\n",
        "  nim=input('NIM:')\n",
        "  NIM.append(nim)\n",
        "  nama=input('NAMA:')\n",
        "  NAMA.append(nama)\n",
        "  asalkota=input('ASAL KOTA:')\n",
        "  ASAL.append(asalkota)\n",
        "  tb=input('TINGGI BADAN:')\n",
        "  TINGGI.append(tb)\n",
        "  bb=input(\"BERAT BADAN:\")\n",
        "  BERAT.append(bb)\n",
        "\n",
        "data = {'NIM' : NIM,'NAMA' : NAMA,'ASAL KOTA' : ASAL,'TINGGI BADAN' : TINGGI,'BERAT BADAN' : BERAT}\n",
        "\n",
        "df=pd.DataFrame(data)\n",
        "df\n",
        "\n",
        "df.to_csv(\"5210411257_Ridwan Halim.csv\",index=False)"
      ]
    },
    {
      "cell_type": "code",
      "source": [
        "import pandas as pd\n",
        "import os\n",
        "\n",
        "NIM=[]\n",
        "NAMA=[]\n",
        "ASAL=[]\n",
        "TINGGI=[]\n",
        "BERAT=[]\n",
        "\n",
        "def dataAja():\n",
        "  nim=input('NIM:')\n",
        "  NIM.append(nim)\n",
        "  nama=input('NAMA:')\n",
        "  NAMA.append(nama)\n",
        "  asalkota=input('ASAL KOTA:')\n",
        "  ASAL.append(asalkota)\n",
        "  tb=input('TINGGI BADAN:')\n",
        "  TINGGI.append(tb)\n",
        "  bb=input(\"BERAT BADAN:\")\n",
        "  BERAT.append(bb)\n",
        "\n",
        "lagi=\"Y\"\n",
        "while lagi==\"Y\" or lagi==\"y\":\n",
        "  os.system('cls')\n",
        "  dataAja()\n",
        "  print()\n",
        "  lagi=input(\"Tambah Data lagi [Y/T] : \")\n",
        "  print('')\n",
        "\n",
        "data = {'NIM' : NIM,'NAMA' : NAMA,'ASAL KOTA' : ASAL,'TINGGI BADAN' : TINGGI,'BERAT BADAN' : BERAT}\n",
        "\n",
        "df=pd.DataFrame(data)\n",
        "df\n",
        "print(df)\n",
        "df.to_csv(\"tesr.csv\",index=False)"
      ],
      "metadata": {
        "id": "BlN6e6GxVgTx"
      },
      "execution_count": null,
      "outputs": []
    }
  ]
}