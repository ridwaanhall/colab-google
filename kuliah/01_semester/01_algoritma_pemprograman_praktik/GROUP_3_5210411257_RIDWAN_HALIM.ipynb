{
  "nbformat": 4,
  "nbformat_minor": 0,
  "metadata": {
    "colab": {
      "private_outputs": true,
      "provenance": [],
      "authorship_tag": "ABX9TyO5xEVlFDF0SxEpFANBQkij",
      "include_colab_link": true
    },
    "kernelspec": {
      "name": "python3",
      "display_name": "Python 3"
    },
    "language_info": {
      "name": "python"
    }
  },
  "cells": [
    {
      "cell_type": "markdown",
      "metadata": {
        "id": "view-in-github",
        "colab_type": "text"
      },
      "source": [
        "<a href=\"https://colab.research.google.com/github/ridwaanhall/colab-google/blob/main/kuliah/01_semester/01_algoritma_pemprograman_praktik/GROUP_3_5210411257_RIDWAN_HALIM.ipynb\" target=\"_parent\"><img src=\"https://colab.research.google.com/assets/colab-badge.svg\" alt=\"Open In Colab\"/></a>"
      ]
    },
    {
      "cell_type": "markdown",
      "source": [
        "# GRUP 3 ALGO PRAK VIII\n",
        "## program sederhana untuk mendata/mengelola buku-buku di perpustakaan\n",
        "### ANGGOTA GRUP 3\n",
        "1. 5210411278 FADMI FAHRANI\n",
        "2. 5210411257 RIDWAN HALIM\n",
        "3. 5210411274 BAYU ARDIANSYAH\n",
        "\n",
        "\n"
      ],
      "metadata": {
        "id": "wJRP85Nr3B8N"
      }
    },
    {
      "cell_type": "markdown",
      "source": [
        "# MEMBUAT TABEL (CREATE)"
      ],
      "metadata": {
        "id": "xdy3-ycBXxlG"
      }
    },
    {
      "cell_type": "code",
      "source": [
        "# library\n",
        "import sqlite3\n",
        "\n",
        "# membuat koneksi ke dalam database\n",
        "conn = sqlite3.connect(\"DataPerpustakaan.db\")\n",
        "\n",
        "# query sql untuk membuat tabel\n",
        "query = '''\n",
        "CREATE TABLE tabel_perpustakaan(\n",
        "  ISBN INT NOT NULL,\n",
        "  Judul TEXT NOT NULL,\n",
        "  Pengarang TEXT NOT NULL,\n",
        "  Penerbit TEXT NOT NULL,\n",
        "  TahunTerbit INT NOT NULL,\n",
        "  Kategori TEXT NOT NULL,\n",
        "  Jumlah INT NOT NULL\n",
        ")\n",
        "'''\n",
        "\n",
        "# menjalankan query\n",
        "conn.execute(query)\n",
        "\n",
        "# menutup koneksi\n",
        "conn.close()"
      ],
      "metadata": {
        "id": "C8jax21IX43P"
      },
      "execution_count": null,
      "outputs": []
    },
    {
      "cell_type": "markdown",
      "source": [
        "# INPUT DATA"
      ],
      "metadata": {
        "id": "5ddqA38mfRQe"
      }
    },
    {
      "cell_type": "code",
      "source": [
        "# library\n",
        "import sqlite3\n",
        "import os\n",
        "\n",
        "# membuat koneksi ke dalam database\n",
        "conn = sqlite3.connect(\"DataPerpustakaan.db\")\n",
        "\n",
        "# membuat input ke database\n",
        "def inputData():\n",
        "  def tabel_perpustakaan():\n",
        "\n",
        "    query = f'''\n",
        "    INSERT INTO tabel_perpustakaan(ISBN, Judul, Pengarang, Penerbit, TahunTerbit, Kategori, Jumlah)\n",
        "    VALUES ({int(a)}, {b}, {c}, {d}, {e}, {f}, {g})\n",
        "    '''\n",
        "    return query\n",
        "  print('<<<MASUKKAN INPUT DATA BUKU>>>')\n",
        "  print('Untuk Judul, Pengarang, Penerbit, dan Kategori masukkan input dengan tanda kutip (\\'...\\')')\n",
        "  a = input(\"ISBN        : \")\n",
        "  b = input(\"Judul       : \")\n",
        "  c = input(\"Pengarang   : \")\n",
        "  d = input(\"penerbit    : \")\n",
        "  e = input(\"TahunTerbit : \")\n",
        "  f = input(\"kategori    : \")\n",
        "  g = input(\"Jumlah      : \")\n",
        "\n",
        "  # mengkoneksikan\n",
        "  conn.execute(tabel_perpustakaan())\n",
        "\n",
        "lagi=\"Y\"\n",
        "while lagi==\"Y\" or lagi==\"y\":\n",
        "  os.system('cls')\n",
        "  inputData()\n",
        "  print()\n",
        "  lagi=input(\"Tambah Data lagi [Y/T] : \")\n",
        "  print('')\n",
        "\n",
        "# commit\n",
        "conn.commit()\n",
        "\n",
        "# tutup koneksi\n",
        "conn.close()"
      ],
      "metadata": {
        "id": "GqbF3qV2faqr"
      },
      "execution_count": null,
      "outputs": []
    },
    {
      "cell_type": "markdown",
      "source": [
        "# MENAMPILKAN DATA (READ)"
      ],
      "metadata": {
        "id": "p1VRBkMs1cRN"
      }
    },
    {
      "cell_type": "markdown",
      "source": [
        "## MENAMPILKAN DATA"
      ],
      "metadata": {
        "id": "eOpf9S_o1e8M"
      }
    },
    {
      "cell_type": "code",
      "source": [
        "# library\n",
        "import sqlite3\n",
        "\n",
        "# membuat koneksi ke dalam database\n",
        "conn = sqlite3.connect(\"DataPerpustakaan.db\")\n",
        "\n",
        "# query untuk membaca tabel\n",
        "query = '''\n",
        "SELECT ISBN, Judul, Pengarang, Penerbit, TahunTerbit, Kategori, Jumlah FROM tabel_perpustakaan\n",
        "'''\n",
        "\n",
        "# menjalankan query\n",
        "cursor = conn.execute(query)\n",
        "\n",
        "# melihat data tabel\n",
        "cuy = cursor.fetchall()\n",
        "print(cuy)\n",
        "\n",
        "# tutup koneksi\n",
        "conn.close()"
      ],
      "metadata": {
        "id": "Tp1flUoS1ohM"
      },
      "execution_count": null,
      "outputs": []
    },
    {
      "cell_type": "markdown",
      "source": [
        "## MERAPIKAN DATA"
      ],
      "metadata": {
        "id": "nIHi5KGf1u2K"
      }
    },
    {
      "cell_type": "code",
      "source": [
        "# library\n",
        "import sqlite3\n",
        "\n",
        "# membuat koneksi ke dalam database\n",
        "conn = sqlite3.connect(\"DataPerpustakaan.db\")\n",
        "\n",
        "# query untuk membaca tabel\n",
        "query = '''\n",
        "SELECT ISBN, Judul, Pengarang, Penerbit, TahunTerbit, Kategori, Jumlah FROM tabel_perpustakaan\n",
        "'''\n",
        "\n",
        "# menjalankan query\n",
        "cursor = conn.execute(query)\n",
        "\n",
        "# iterasi terhadap cursor\n",
        "for baris in cursor:\n",
        "  print(\"ISBN        =\",baris[0])\n",
        "  print(\"Judul       =\",baris[1])\n",
        "  print(\"Pengarang   =\",baris[2])\n",
        "  print(\"penerbit    =\",baris[3])\n",
        "  print(\"TahunTerbit =\",baris[4])\n",
        "  print(\"kategori    =\",baris[5])\n",
        "  print(\"Jumlah      =\",baris[6])\n",
        "  print()\n",
        "\n",
        "\n",
        "\n",
        "# tutup koneksi\n",
        "conn.close()"
      ],
      "metadata": {
        "id": "5GfXm79l10t7"
      },
      "execution_count": null,
      "outputs": []
    },
    {
      "cell_type": "markdown",
      "source": [
        "## MEMILIH DATA UNTUK DITAMPILKAN"
      ],
      "metadata": {
        "id": "tQKtKDvi2Pg6"
      }
    },
    {
      "cell_type": "code",
      "source": [
        "# library\n",
        "import sqlite3\n",
        "\n",
        "# membuat koneksi ke dalam database\n",
        "conn = sqlite3.connect(\"DataPerpustakaan.db\")\n",
        "\n",
        "# query untuk membaca tabel\n",
        "def pilihBuku():\n",
        "  print('<<<PILIH SALAH SATU>>>')\n",
        "  print('[1] ISBN         [2] Judul')\n",
        "  print('[3] Pengarang    [4] Penerbit')\n",
        "  print('[5] Tahun Terbit [6] Kategori')\n",
        "  print('[7] Jumlah')\n",
        "  print('')\n",
        "\n",
        "  pilihan = int(input('Pilih yang Ingin ditampilkan : '))\n",
        "\n",
        "  if pilihan == 1:\n",
        "\n",
        "    inputan = int(input(\"Masukkan ISBN Buku yang ingin ditampilkan : \"))\n",
        "    print('')\n",
        "    print('<<<DATA BUKU YANG DIPILIH>>>')\n",
        "    query = f'''\n",
        "    SELECT ISBN, Judul, Pengarang, Penerbit, TahunTerbit, Kategori, Jumlah FROM tabel_perpustakaan WHERE ISBN = {inputan}\n",
        "    '''\n",
        "\n",
        "    # menjalankan query\n",
        "    cursor = conn.execute(query)\n",
        "\n",
        "    # iterasi terhadap cursor\n",
        "    for baris in cursor:\n",
        "      print(\"ISBN        =\",baris[0])\n",
        "      print(\"Judul       =\",baris[1])\n",
        "      print(\"Pengarang   =\",baris[2])\n",
        "      print(\"penerbit    =\",baris[3])\n",
        "      print(\"TahunTerbit =\",baris[4])\n",
        "      print(\"kategori    =\",baris[5])\n",
        "      print(\"Jumlah      =\",baris[6])\n",
        "      print()\n",
        "\n",
        "  elif pilihan == 2:\n",
        "    inputan2 = input(\"Masukkan judul yang ingin ditampilkan : \")\n",
        "    print('')\n",
        "    print('<<<DATA BUKU YANG DIPILIH>>>')\n",
        "    query2 = f'''\n",
        "    SELECT ISBN, Judul, Pengarang, Penerbit, TahunTerbit, Kategori, Jumlah FROM tabel_perpustakaan WHERE Judul = {inputan2}\n",
        "    '''\n",
        "\n",
        "    # menjalankan query\n",
        "    cursor = conn.execute(query2)\n",
        "\n",
        "    # iterasi terhadap cursor\n",
        "    for baris in cursor:\n",
        "      print(\"ISBN        =\",baris[0])\n",
        "      print(\"Judul       =\",baris[1])\n",
        "      print(\"Pengarang   =\",baris[2])\n",
        "      print(\"penerbit    =\",baris[3])\n",
        "      print(\"TahunTerbit =\",baris[4])\n",
        "      print(\"kategori    =\",baris[5])\n",
        "      print(\"Jumlah      =\",baris[6])\n",
        "      print()\n",
        "\n",
        "  elif pilihan == 3:\n",
        "    inputan3 = input(\"Masukkan Pengarang yang ingin ditampilkan : \")\n",
        "    print('')\n",
        "    print('<<<DATA BUKU YANG DIPILIH>>>')\n",
        "    query3 = f'''\n",
        "    SELECT ISBN, Judul, Pengarang, Penerbit, TahunTerbit, Kategori, Jumlah FROM tabel_perpustakaan WHERE Pengarang = {inputan3}\n",
        "    '''\n",
        "\n",
        "    # menjalankan query\n",
        "    cursor = conn.execute(query3)\n",
        "\n",
        "    # iterasi terhadap cursor\n",
        "    for baris in cursor:\n",
        "      print(\"ISBN        =\",baris[0])\n",
        "      print(\"Judul       =\",baris[1])\n",
        "      print(\"Pengarang   =\",baris[2])\n",
        "      print(\"penerbit    =\",baris[3])\n",
        "      print(\"TahunTerbit =\",baris[4])\n",
        "      print(\"kategori    =\",baris[5])\n",
        "      print(\"Jumlah      =\",baris[6])\n",
        "      print()\n",
        "\n",
        "  elif pilihan == 4:\n",
        "    inputan4 = input(\"Masukkan Penerbit yang ingin ditampilkan : \")\n",
        "    print('')\n",
        "    print('<<<DATA BUKU YANG DIPILIH>>>')\n",
        "    query4 = f'''\n",
        "    SELECT ISBN, Judul, Pengarang, Penerbit, TahunTerbit, Kategori, Jumlah FROM tabel_perpustakaan WHERE Penerbit = {inputan4}\n",
        "    '''\n",
        "\n",
        "    # menjalankan query\n",
        "    cursor = conn.execute(query4)\n",
        "\n",
        "    # iterasi terhadap cursor\n",
        "    for baris in cursor:\n",
        "      print(\"ISBN        =\",baris[0])\n",
        "      print(\"Judul       =\",baris[1])\n",
        "      print(\"Pengarang   =\",baris[2])\n",
        "      print(\"penerbit    =\",baris[3])\n",
        "      print(\"TahunTerbit =\",baris[4])\n",
        "      print(\"kategori    =\",baris[5])\n",
        "      print(\"Jumlah      =\",baris[6])\n",
        "      print()\n",
        "\n",
        "  elif pilihan == 5:\n",
        "    inputan5 = int(input(\"Masukkan Tahun Terbit yang ingin ditampilkan : \"))\n",
        "    print('')\n",
        "    print('<<<DATA BUKU YANG DIPILIH>>>')\n",
        "    query5 = f'''\n",
        "    SELECT ISBN, Judul, Pengarang, Penerbit, TahunTerbit, Kategori, Jumlah FROM tabel_perpustakaan WHERE TahunTerbit = {inputan5}\n",
        "    '''\n",
        "\n",
        "    # menjalankan query\n",
        "    cursor = conn.execute(query5)\n",
        "\n",
        "    # iterasi terhadap cursor\n",
        "    for baris in cursor:\n",
        "      print(\"ISBN        =\",baris[0])\n",
        "      print(\"Judul       =\",baris[1])\n",
        "      print(\"Pengarang   =\",baris[2])\n",
        "      print(\"penerbit    =\",baris[3])\n",
        "      print(\"TahunTerbit =\",baris[4])\n",
        "      print(\"kategori    =\",baris[5])\n",
        "      print(\"Jumlah      =\",baris[6])\n",
        "      print()\n",
        "\n",
        "  elif pilihan == 6:\n",
        "    inputan6 = input(\"Masukkan Kategori yang ingin ditampilkan : \")\n",
        "    print('')\n",
        "    print('<<<DATA BUKU YANG DIPILIH>>>')\n",
        "    query6 = f'''\n",
        "    SELECT ISBN, Judul, Pengarang, Penerbit, TahunTerbit, Kategori, Jumlah FROM tabel_perpustakaan WHERE Kategori = {inputan6}\n",
        "    '''\n",
        "\n",
        "    # menjalankan query\n",
        "    cursor = conn.execute(query6)\n",
        "\n",
        "    # iterasi terhadap cursor\n",
        "    for baris in cursor:\n",
        "      print(\"ISBN        =\",baris[0])\n",
        "      print(\"Judul       =\",baris[1])\n",
        "      print(\"Pengarang   =\",baris[2])\n",
        "      print(\"penerbit    =\",baris[3])\n",
        "      print(\"TahunTerbit =\",baris[4])\n",
        "      print(\"kategori    =\",baris[5])\n",
        "      print(\"Jumlah      =\",baris[6])\n",
        "      print()\n",
        "\n",
        "\n",
        "\n",
        "  elif pilihan == 7:\n",
        "    inputan7 = input(\"Masukkan Jumlah yang ingin ditampilkan : \")\n",
        "    print('')\n",
        "    print('<<<DATA BUKU YANG DIPILIH>>>')\n",
        "    query7 = f'''\n",
        "    SELECT ISBN, Judul, Pengarang, Penerbit, TahunTerbit, Kategori, Jumlah FROM tabel_perpustakaan WHERE Jumlah = {inputan7}\n",
        "    '''\n",
        "\n",
        "    # menjalankan query\n",
        "    cursor = conn.execute(query7)\n",
        "\n",
        "    # iterasi terhadap cursor\n",
        "    for baris in cursor:\n",
        "      print(\"ISBN        =\",baris[0])\n",
        "      print(\"Judul       =\",baris[1])\n",
        "      print(\"Pengarang   =\",baris[2])\n",
        "      print(\"penerbit    =\",baris[3])\n",
        "      print(\"TahunTerbit =\",baris[4])\n",
        "      print(\"kategori    =\",baris[5])\n",
        "      print(\"Jumlah      =\",baris[6])\n",
        "      print()\n",
        "\n",
        "lagi=\"Y\"\n",
        "while lagi==\"Y\" or lagi==\"y\":\n",
        "  os.system('cls')\n",
        "  pilihBuku()\n",
        "  lagi=input(\"Tampil Pencarian Buku lain [Y/T] : \")\n",
        "  print('')\n",
        "\n",
        "\n",
        "# tutup koneksi\n",
        "conn.close()"
      ],
      "metadata": {
        "id": "AvDgxlg82T0q"
      },
      "execution_count": null,
      "outputs": []
    },
    {
      "cell_type": "markdown",
      "source": [
        "# MEMPERBAHARUI DATA (UPDATE)"
      ],
      "metadata": {
        "id": "dQCSs1Ni2puS"
      }
    },
    {
      "cell_type": "code",
      "source": [
        "# library\n",
        "import sqlite3\n",
        "\n",
        "# membuat koneksi ke dalam database\n",
        "conn = sqlite3.connect(\"DataPerpustakaan.db\")\n",
        "\n",
        "# query untuk membaca tabel\n",
        "\n",
        "def updateBuku():\n",
        "  isbnn = int(input(\"Masukkan ISBN Buku yang ingin diupdate : \"))\n",
        "  print('<<<DATA YANG AKAN DI UPDATE>>>')\n",
        "  query = f'''\n",
        "  SELECT ISBN, Judul, Pengarang, Penerbit, TahunTerbit, Kategori, Jumlah FROM tabel_perpustakaan WHERE ISBN = {isbnn}\n",
        "  '''\n",
        "\n",
        "  # jalankan\n",
        "  cursor = conn.execute(query)\n",
        "  conn.commit()\n",
        "\n",
        "  # iterasi terhadap cursor\n",
        "  for baris in cursor:\n",
        "    print(\"ISBN        =\",baris[0])\n",
        "    print(\"Judul       =\",baris[1])\n",
        "    print(\"Pengarang   =\",baris[2])\n",
        "    print(\"penerbit    =\",baris[3])\n",
        "    print(\"TahunTerbit =\",baris[4])\n",
        "    print(\"kategori    =\",baris[5])\n",
        "    print(\"Jumlah      =\",baris[6])\n",
        "    print()\n",
        "    # menjalankan query\n",
        "    cursor = conn.execute(query)\n",
        "\n",
        "  # update Judul baru\n",
        "  print('<<<MENG-UPDATE BUKU>>>')\n",
        "  print('Untuk Judul, Pengarang, Penerbit, dan Kategori masukkan input dengan tanda kutip (\\'...\\')')\n",
        "  setJudul       =    input('Masukkan Judul Baru        : ')\n",
        "  query = f'''\n",
        "  UPDATE tabel_perpustakaan SET Judul = {setJudul} WHERE ISBN = {isbnn}\n",
        "  '''\n",
        "  # jalankan\n",
        "  conn.execute(query)\n",
        "  conn.commit()\n",
        "\n",
        "  # update Pengarang\n",
        "  setPengarang   =    input('Masukkan Pengarang Baru    : ')\n",
        "  query = f'''\n",
        "  UPDATE tabel_perpustakaan SET Pengarang = {setPengarang} WHERE ISBN = {isbnn}\n",
        "  '''\n",
        "  # jalankan\n",
        "  conn.execute(query)\n",
        "  conn.commit()\n",
        "\n",
        "\n",
        "\n",
        "  # update Penerbit baru\n",
        "  setPenerbit    =    input('Masukkan Penerbit Baru     : ')\n",
        "  query = f'''\n",
        "  UPDATE tabel_perpustakaan SET Penerbit = {setPenerbit} WHERE ISBN = {isbnn}\n",
        "  '''\n",
        "  # jalankan\n",
        "  conn.execute(query)\n",
        "  conn.commit()\n",
        "\n",
        "  # update tahun terbit\n",
        "  setTahunTerbit = int(input('masukkan Tahun Terbit Baru : '))\n",
        "  query = f'''\n",
        "  UPDATE tabel_perpustakaan SET TahunTerbit = {setTahunTerbit} WHERE ISBN = {isbnn}\n",
        "  '''\n",
        "  # jalankan\n",
        "  conn.execute(query)\n",
        "  conn.commit()\n",
        "\n",
        "  # update Kategori Baru\n",
        "  setKategori    =    input('Masukkan Kategori Baru     : ')\n",
        "  query = f'''\n",
        "  UPDATE tabel_perpustakaan SET Kategori = {setKategori} WHERE ISBN = {isbnn}\n",
        "  '''\n",
        "  # jalankan\n",
        "  conn.execute(query)\n",
        "  conn.commit()\n",
        "\n",
        "    # update tahun terbit\n",
        "  setJumlah      = int(input('Masukkan Jumlah Baru       : '))\n",
        "  query = f'''\n",
        "  UPDATE tabel_perpustakaan SET Jumlah = {setJumlah} WHERE ISBN = {isbnn}\n",
        "  '''\n",
        "\n",
        "  # menjalankan query\n",
        "  cursor = conn.execute(query)\n",
        "  conn.commit()\n",
        "\n",
        "  query = f'''\n",
        "  SELECT ISBN, Judul, Pengarang, Penerbit, TahunTerbit, Kategori, Jumlah FROM tabel_perpustakaan WHERE ISBN = {isbnn}\n",
        "  '''\n",
        "  cursor=conn.execute(query)\n",
        "  # iterasi terhadap cursor\n",
        "  for baris in cursor:\n",
        "    print('')\n",
        "    print('<<<BERHASIL DI UPDATE>>>')\n",
        "    print(\"ISBN        =\",baris[0])\n",
        "    print(\"Judul       =\",baris[1])\n",
        "    print(\"Pengarang   =\",baris[2])\n",
        "    print(\"penerbit    =\",baris[3])\n",
        "    print(\"TahunTerbit =\",baris[4])\n",
        "    print(\"kategori    =\",baris[5])\n",
        "    print(\"Jumlah      =\",baris[6])\n",
        "\n",
        "\n",
        "lagi=\"Y\"\n",
        "while lagi==\"Y\" or lagi==\"y\":\n",
        "  os.system('cls')\n",
        "  updateBuku()\n",
        "  print()\n",
        "  lagi=input(\"Update Buku lain [Y/T] : \")\n",
        "  print()\n",
        "\n",
        "# tutup koneksi\n",
        "conn.close()"
      ],
      "metadata": {
        "id": "7CvuKTRo2u3j"
      },
      "execution_count": null,
      "outputs": []
    },
    {
      "cell_type": "markdown",
      "source": [
        "# MENGHAPUS DATA (DELETE)"
      ],
      "metadata": {
        "id": "743pB67e20lL"
      }
    },
    {
      "cell_type": "code",
      "source": [
        "# library\n",
        "import sqlite3\n",
        "\n",
        "# membuat koneksi ke dalam database\n",
        "conn = sqlite3.connect(\"DataPerpustakaan.db\")\n",
        "\n",
        "# query untuk membaca tabel\n",
        "def deleteBuku():\n",
        "  hapus = int(input(\"Masukkan ISBN Buku yang ingin dihapus : \"))\n",
        "  print('<<<DATA YANG MASIH ADA>>>')\n",
        "  query = f'''\n",
        "  DELETE FROM tabel_perpustakaan WHERE ISBN = {hapus}\n",
        "  '''\n",
        "\n",
        "  # jalankan\n",
        "  conn.execute(query)\n",
        "\n",
        "  # commit\n",
        "  conn.commit()\n",
        "\n",
        "  # query baca\n",
        "  query_baca = '''\n",
        "  SELECT ISBN, Judul, Pengarang, Penerbit, TahunTerbit, Kategori, Jumlah FROM tabel_perpustakaan\n",
        "  '''\n",
        "\n",
        "  # jalankan\n",
        "  cursor = conn.execute(query_baca)\n",
        "\n",
        "  # iterasi terhadap cursor\n",
        "  for baris in cursor:\n",
        "\n",
        "    print(\"ISBN        =\",baris[0])\n",
        "    print(\"Judul       =\",baris[1])\n",
        "    print(\"Pengarang   =\",baris[2])\n",
        "    print(\"penerbit    =\",baris[3])\n",
        "    print(\"TahunTerbit =\",baris[4])\n",
        "    print(\"kategori    =\",baris[5])\n",
        "    print(\"Jumlah      =\",baris[6])\n",
        "    print(\"\")\n",
        "\n",
        "lagi=\"Y\"\n",
        "while lagi==\"Y\" or lagi==\"y\":\n",
        "  os.system('cls')\n",
        "  deleteBuku()\n",
        "  print()\n",
        "  print('<<<BERHASIL DIHAPUS>>>')\n",
        "  print('')\n",
        "  lagi=input(\"Hapus Buku lain [Y/T] : \")\n",
        "  print('')\n",
        "\n",
        "# tutup koneksi\n",
        "conn.close()"
      ],
      "metadata": {
        "id": "vwtVRIE_239c"
      },
      "execution_count": null,
      "outputs": []
    },
    {
      "cell_type": "markdown",
      "source": [
        "# FILE CSV"
      ],
      "metadata": {
        "id": "7Yv6prSg4GQC"
      }
    },
    {
      "cell_type": "markdown",
      "source": [
        "## MENYIMPAN KE DALAM FORMAT CSV"
      ],
      "metadata": {
        "id": "jY0tIB2FDefF"
      }
    },
    {
      "cell_type": "code",
      "source": [
        "#Menyimpan ke dalam format CSV\n",
        "import sqlite3 as sq\n",
        "import pandas as pd\n",
        "\n",
        "conn=sq.connect('DataPerpustakaan.db')\n",
        "\n",
        "query = '''\n",
        "SELECT ISBN, Judul, Pengarang, Penerbit, TahunTerbit, Kategori, Jumlah FROM tabel_perpustakaan\n",
        "'''\n",
        "\n",
        "cursor=conn.execute(query)\n",
        "dt=cursor.fetchall()\n",
        "\n",
        "df=pd.DataFrame(dt,columns=['ISBN','Judul','Pengarang','Penerbit','Tahun Terbit','Kategori','Jumlah'])\n",
        "df\n",
        "df.to_csv('data_perpustakaan.csv',index=False)"
      ],
      "metadata": {
        "id": "hDJK3Z_5DmAg"
      },
      "execution_count": null,
      "outputs": []
    },
    {
      "cell_type": "markdown",
      "source": [
        "## MEMBACA FILE CSV"
      ],
      "metadata": {
        "id": "7IQzkJsvDp-Y"
      }
    },
    {
      "cell_type": "code",
      "source": [
        "#Membaca file CSV\n",
        "import pandas as pd\n",
        "\n",
        "df=pd.read_csv('data_perpustakaan.csv')\n",
        "df"
      ],
      "metadata": {
        "id": "p4RRvxhvDtGp"
      },
      "execution_count": null,
      "outputs": []
    }
  ]
}