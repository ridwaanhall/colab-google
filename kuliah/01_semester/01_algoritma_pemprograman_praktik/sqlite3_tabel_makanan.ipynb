{
  "nbformat": 4,
  "nbformat_minor": 0,
  "metadata": {
    "colab": {
      "private_outputs": true,
      "provenance": [],
      "authorship_tag": "ABX9TyOuODWzcMIVLPVIRqbGNSLb",
      "include_colab_link": true
    },
    "kernelspec": {
      "name": "python3",
      "display_name": "Python 3"
    },
    "language_info": {
      "name": "python"
    }
  },
  "cells": [
    {
      "cell_type": "markdown",
      "metadata": {
        "id": "view-in-github",
        "colab_type": "text"
      },
      "source": [
        "<a href=\"https://colab.research.google.com/github/ridwaanhall/colab-google/blob/main/kuliah/01_semester/01_algoritma_pemprograman_praktik/sqlite3_tabel_makanan.ipynb\" target=\"_parent\"><img src=\"https://colab.research.google.com/assets/colab-badge.svg\" alt=\"Open In Colab\"/></a>"
      ]
    },
    {
      "cell_type": "code",
      "execution_count": null,
      "metadata": {
        "id": "qqqGJRye5LcB"
      },
      "outputs": [],
      "source": [
        "# library\n",
        "import sqlite3\n",
        "\n",
        "# membuat koneksi ke dalam database\n",
        "conn = sqlite3.connect(\"test.db\")\n",
        "\n",
        "# query sql untuk membuat tabel\n",
        "query = '''\n",
        "CREATE TABLE tbl_makanan(\n",
        "  id INT NOT NULL,\n",
        "  nama TEXT NOT NULL,\n",
        "  harga INT\n",
        ")\n",
        "'''\n",
        "\n",
        "# menjalankan query\n",
        "conn.execute(query)\n",
        "\n",
        "# menutup koneksi\n",
        "conn.close()"
      ]
    },
    {
      "cell_type": "code",
      "source": [
        "# library\n",
        "import sqlite3\n",
        "\n",
        "# membuat koneksi ke dalam database\n",
        "conn = sqlite3.connect(\"test.db\")\n",
        "\n",
        "# query untuk memasukkan data\n",
        "query = '''\n",
        "INSERT INTO tbl_makanan(id,nama,harga)\n",
        "VALUES (1,'Roti Bakar',15000);\n",
        "'''\n",
        "# Menjalankan query\n",
        "conn.execute(query)\n",
        "\n",
        "# query untuk memasukkan data\n",
        "query = '''\n",
        "INSERT INTO tbl_makanan(id,nama,harga)\n",
        "VALUES (2,'Pisang Goreng',10000);\n",
        "'''\n",
        "# Menjalankan query\n",
        "conn.execute(query)\n",
        "\n",
        "# query untuk memasukkan data\n",
        "query = '''\n",
        "INSERT INTO tbl_makanan(id,nama)\n",
        "VALUES (3,'Cilok');\n",
        "'''\n",
        "# Menjalankan query\n",
        "conn.execute(query)\n",
        "\n",
        "\n",
        "\n",
        "# singkatnya\n",
        "# conn.execute(\"INSERT INTO tbl_makanan(id,nama) VALUES (3,'Cilok');\")\n",
        "\n",
        "\n",
        "\n",
        "# commit\n",
        "conn.commit()\n",
        "\n",
        "# tutup koneksi\n",
        "conn.close()"
      ],
      "metadata": {
        "id": "lsnPz0EI5PVE"
      },
      "execution_count": null,
      "outputs": []
    },
    {
      "cell_type": "code",
      "source": [
        "# library\n",
        "import sqlite3\n",
        "\n",
        "# membuat koneksi ke dalam database\n",
        "conn = sqlite3.connect(\"test.db\")\n",
        "\n",
        "# query untuk membaca tabel\n",
        "query = '''\n",
        "SELECT id,nama,harga FROM tbl_makanan\n",
        "'''\n",
        "\n",
        "# menjalankan query\n",
        "cursor = conn.execute(query)\n",
        "\n",
        "# melihat data tabel\n",
        "print(cursor.fetchall())\n",
        "\n",
        "# tutup koneksi\n",
        "conn.close()"
      ],
      "metadata": {
        "id": "OYtyhgA15R-Z"
      },
      "execution_count": null,
      "outputs": []
    },
    {
      "cell_type": "code",
      "source": [
        "# library\n",
        "import sqlite3\n",
        "\n",
        "# membuat koneksi ke dalam database\n",
        "conn = sqlite3.connect(\"test.db\")\n",
        "\n",
        "# query untuk membaca tabel\n",
        "query = '''\n",
        "SELECT id,nama,harga FROM tbl_makanan\n",
        "'''\n",
        "\n",
        "# menjalankan query\n",
        "cursor = conn.execute(query)\n",
        "\n",
        "# iterasi terhadap cursor\n",
        "for baris in cursor:\n",
        "  print(\"id = \",baris[0])\n",
        "  print(\"nama = \",baris[1])\n",
        "  print(\"harga = \",baris[2])\n",
        "  print()\n",
        "\n",
        "# tutup koneksi\n",
        "conn.close()"
      ],
      "metadata": {
        "id": "1DkUC6qx5U2a"
      },
      "execution_count": null,
      "outputs": []
    },
    {
      "cell_type": "code",
      "source": [
        "# library\n",
        "import sqlite3\n",
        "\n",
        "# membuat koneksi ke dalam database\n",
        "conn = sqlite3.connect(\"test.db\")\n",
        "\n",
        "# query untuk membaca tabel\n",
        "query = '''\n",
        "SELECT id,nama,harga FROM tbl_makanan WHERE id=2\n",
        "'''\n",
        "\n",
        "# menjalankan query\n",
        "cursor = conn.execute(query)\n",
        "\n",
        "# iterasi terhadap cursor\n",
        "for baris in cursor:\n",
        "  print(\"id = \",baris[0])\n",
        "  print(\"nama = \",baris[1])\n",
        "  print(\"harga = \",baris[2])\n",
        "  print()\n",
        "\n",
        "# tutup koneksi\n",
        "conn.close()"
      ],
      "metadata": {
        "id": "7LmrbURb5XBx"
      },
      "execution_count": null,
      "outputs": []
    },
    {
      "cell_type": "code",
      "source": [
        "# library\n",
        "import sqlite3\n",
        "\n",
        "# membuat koneksi ke dalam database\n",
        "conn = sqlite3.connect(\"test.db\")\n",
        "\n",
        "# query untuk membaca tabel\n",
        "query = '''\n",
        "UPDATE tbl_makanan SET harga = 5000 WHERE id = 3\n",
        "'''\n",
        "\n",
        "# jalankan\n",
        "conn.execute(query)\n",
        "\n",
        "# commit\n",
        "conn.commit()\n",
        "\n",
        "################################################\n",
        "\n",
        "# query baca\n",
        "query_baca = '''\n",
        "SELECT id,nama,harga FROM tbl_makanan\n",
        "'''\n",
        "\n",
        "# jalankan\n",
        "cursor = conn.execute(query_baca)\n",
        "\n",
        "# iterasi terhadap cursor\n",
        "for baris in cursor:\n",
        "  print(\"id = \",baris[0])\n",
        "  print(\"nama = \",baris[1])\n",
        "  print(\"harga = \",baris[2])\n",
        "  print()\n",
        "\n",
        "# tutup koneksi\n",
        "conn.close()"
      ],
      "metadata": {
        "id": "KEE2cMTL5ckF"
      },
      "execution_count": null,
      "outputs": []
    },
    {
      "cell_type": "code",
      "source": [
        "# library\n",
        "import sqlite3\n",
        "\n",
        "# membuat koneksi ke dalam database\n",
        "conn = sqlite3.connect(\"test.db\")\n",
        "\n",
        "# query untuk menghapus\n",
        "query = '''\n",
        "DELETE FROM tbl_makanan WHERE id=2\n",
        "'''\n",
        "\n",
        "# jalankan\n",
        "conn.execute(query)\n",
        "\n",
        "# commit\n",
        "conn.commit()\n",
        "\n",
        "####################################\n",
        "# query baca\n",
        "query_baca = '''\n",
        "SELECT id,nama,harga FROM tbl_makanan\n",
        "'''\n",
        "\n",
        "# jalankan\n",
        "cursor = conn.execute(query_baca)\n",
        "\n",
        "# iterasi terhadap cursor\n",
        "for baris in cursor:\n",
        "  print(\"id = \",baris[0])\n",
        "  print(\"nama = \",baris[1])\n",
        "  print(\"harga = \",baris[2])\n",
        "  print()\n",
        "\n",
        "# tutup koneksi\n",
        "conn.close()"
      ],
      "metadata": {
        "id": "Pyg3Hynq5dm6"
      },
      "execution_count": null,
      "outputs": []
    }
  ]
}