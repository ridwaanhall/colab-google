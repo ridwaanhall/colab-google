{
  "nbformat": 4,
  "nbformat_minor": 0,
  "metadata": {
    "colab": {
      "private_outputs": true,
      "provenance": [],
      "authorship_tag": "ABX9TyNReUssSWvBkD4dDFa8fCSZ",
      "include_colab_link": true
    },
    "kernelspec": {
      "name": "python3",
      "display_name": "Python 3"
    },
    "language_info": {
      "name": "python"
    }
  },
  "cells": [
    {
      "cell_type": "markdown",
      "metadata": {
        "id": "view-in-github",
        "colab_type": "text"
      },
      "source": [
        "<a href=\"https://colab.research.google.com/github/ridwaanhall/colab-google/blob/main/kuliah/01_semester/01_algoritma_pemprograman_praktik/sqlite3%20CRUD%20perpustakaan.ipynb\" target=\"_parent\"><img src=\"https://colab.research.google.com/assets/colab-badge.svg\" alt=\"Open In Colab\"/></a>"
      ]
    },
    {
      "cell_type": "markdown",
      "source": [
        "# membuat tabel"
      ],
      "metadata": {
        "id": "r-YSTY6kIJ1F"
      }
    },
    {
      "cell_type": "code",
      "source": [
        "# library\n",
        "import sqlite3\n",
        "\n",
        "# membuat koneksi ke dalam database\n",
        "conn = sqlite3.connect(\"test.db\")\n",
        "\n",
        "# query sql untuk membuat tabel\n",
        "query = '''\n",
        "CREATE TABLE tabel_perpustakaan(\n",
        "  ISBN INT NOT NULL,\n",
        "  Judul TEXT NOT NULL,\n",
        "  Pengarang TEXT NOT NULL,\n",
        "  Penerbit TEXT NOT NULL,\n",
        "  TahunTerbit INT NOT NULL,\n",
        "  Kategori TEXT NOT NULL,\n",
        "  Jumlah INT NOT NULL\n",
        ")\n",
        "'''\n",
        "\n",
        "# menjalankan query\n",
        "conn.execute(query)\n",
        "\n",
        "# menutup koneksi\n",
        "conn.close()"
      ],
      "metadata": {
        "id": "IzejRQ1XIOfL"
      },
      "execution_count": null,
      "outputs": []
    },
    {
      "cell_type": "markdown",
      "source": [
        "#membuat input"
      ],
      "metadata": {
        "id": "C9WrTZ-9IVM7"
      }
    },
    {
      "cell_type": "code",
      "source": [
        "# library\n",
        "import sqlite3\n",
        "import os\n",
        "# membuat koneksi ke dalam database\n",
        "conn = sqlite3.connect(\"test.db\")\n",
        "\n",
        "def inputData():\n",
        "  def tabel_perpustakaan():\n",
        "    query = f'''\n",
        "    INSERT INTO tabel_perpustakaan(ISBN, Judul, Pengarang, Penerbit, TahunTerbit, Kategori, Jumlah)\n",
        "    VALUES ({int(a)}, {b}, {c}, {d}, {e}, {f}, {g})\n",
        "    '''\n",
        "    return query\n",
        "\n",
        "  a = input(\"ISBN        : \")\n",
        "  b = input(\"Judul       : \")\n",
        "  c = input(\"Pengarang   : \")\n",
        "  d = input(\"penerbit    : \")\n",
        "  e = input(\"TahunTerbit : \")\n",
        "  f = input(\"kategori    : \")\n",
        "  g = input(\"Jumlah      : \")\n",
        "\n",
        "  conn.execute(tabel_perpustakaan())\n",
        "lagi=\"Y\"\n",
        "while lagi==\"Y\" or lagi==\"y\":\n",
        "  os.system('cls')\n",
        "  inputData()\n",
        "  print()\n",
        "  lagi=input(\"Tambah Data lagi [Y/T] : \")\n",
        "\n",
        "# singkatnya\n",
        "# conn.execute(\"INSERT INTO tbl_makanan(id,nama) VALUES (3,'Cilok');\")\n",
        "\n",
        "# commit\n",
        "conn.commit()\n",
        "\n",
        "# tutup koneksi\n",
        "conn.close()"
      ],
      "metadata": {
        "id": "iB809CEvIaPS"
      },
      "execution_count": null,
      "outputs": []
    },
    {
      "cell_type": "markdown",
      "source": [
        "# membaca"
      ],
      "metadata": {
        "id": "-6pXBdyPIpG7"
      }
    },
    {
      "cell_type": "code",
      "source": [
        "# library\n",
        "import sqlite3\n",
        "\n",
        "# membuat koneksi ke dalam database\n",
        "conn = sqlite3.connect(\"test.db\")\n",
        "\n",
        "# query untuk membaca tabel\n",
        "query = '''\n",
        "SELECT ISBN, Judul, Pengarang, Penerbit, TahunTerbit, Kategori, Jumlah FROM tabel_perpustakaan\n",
        "'''\n",
        "\n",
        "# menjalankan query\n",
        "cursor = conn.execute(query)\n",
        "\n",
        "# melihat data tabel\n",
        "cuy = cursor.fetchall()\n",
        "print(cuy)\n",
        "# tutup koneksi\n",
        "conn.close()"
      ],
      "metadata": {
        "id": "zh87fl66Iqqr"
      },
      "execution_count": null,
      "outputs": []
    },
    {
      "cell_type": "markdown",
      "source": [
        "#merapikan"
      ],
      "metadata": {
        "id": "CNB5eeYTIr6E"
      }
    },
    {
      "cell_type": "code",
      "source": [
        "# library\n",
        "import sqlite3\n",
        "\n",
        "# membuat koneksi ke dalam database\n",
        "conn = sqlite3.connect(\"test.db\")\n",
        "\n",
        "# query untuk membaca tabel\n",
        "query = '''\n",
        "SELECT ISBN, Judul, Pengarang, Penerbit, TahunTerbit, Kategori, Jumlah FROM tabel_perpustakaan\n",
        "'''\n",
        "\n",
        "# menjalankan query\n",
        "cursor = conn.execute(query)\n",
        "\n",
        "# iterasi terhadap cursor\n",
        "for baris in cursor:\n",
        "  print(\"ISBN        =\",baris[0])\n",
        "  print(\"Judul       =\",baris[1])\n",
        "  print(\"Pengarang   =\",baris[2])\n",
        "  print(\"penerbit    =\",baris[3])\n",
        "  print(\"TahunTerbit =\",baris[4])\n",
        "  print(\"kategori    =\",baris[5])\n",
        "  print(\"Jumlah      =\",baris[4])\n",
        "  print()\n",
        "\n",
        "\n",
        "\n",
        "# tutup koneksi\n",
        "conn.close()"
      ],
      "metadata": {
        "id": "hLd8uPsuIv4q"
      },
      "execution_count": null,
      "outputs": []
    },
    {
      "cell_type": "markdown",
      "source": [
        "# mengambil salah satu"
      ],
      "metadata": {
        "id": "QmsrrDTeIwvj"
      }
    },
    {
      "cell_type": "code",
      "source": [
        "# library\n",
        "import sqlite3\n",
        "\n",
        "# membuat koneksi ke dalam database\n",
        "conn = sqlite3.connect(\"test.db\")\n",
        "\n",
        "# query untuk membaca tabel\n",
        "\n",
        "query = '''\n",
        "SELECT ISBN, Judul, Pengarang, Penerbit, TahunTerbit, Kategori, Jumlah FROM tabel_perpustakaan WHERE ISBN = 2\n",
        "'''\n",
        "\n",
        "# menjalankan query\n",
        "cursor = conn.execute(query)\n",
        "\n",
        "# iterasi terhadap cursor\n",
        "for baris in cursor:\n",
        "  print(\"ISBN        =\",baris[0])\n",
        "  print(\"Judul       =\",baris[1])\n",
        "  print(\"Pengarang   =\",baris[2])\n",
        "  print(\"penerbit    =\",baris[3])\n",
        "  print(\"TahunTerbit =\",baris[4])\n",
        "  print(\"kategori    =\",baris[5])\n",
        "  print(\"Jumlah      =\",baris[4])\n",
        "  print()\n",
        "\n",
        "\n",
        "\n",
        "# tutup koneksi\n",
        "conn.close()"
      ],
      "metadata": {
        "id": "dYkOCTlMI2u6"
      },
      "execution_count": null,
      "outputs": []
    },
    {
      "cell_type": "markdown",
      "source": [
        "# update"
      ],
      "metadata": {
        "id": "JPOZArVsI6EL"
      }
    },
    {
      "cell_type": "code",
      "source": [
        "# library\n",
        "import sqlite3\n",
        "\n",
        "# membuat koneksi ke dalam database\n",
        "conn = sqlite3.connect(\"test.db\")\n",
        "\n",
        "# query untuk membaca tabel\n",
        "\n",
        "query = '''\n",
        "UPDATE tabel_perpustakaan SET TahunTerbit = 2025 WHERE ISBN = 2\n",
        "'''\n",
        "\n",
        "# jalankan\n",
        "conn.execute(query)\n",
        "\n",
        "# commit\n",
        "conn.commit()\n",
        "\n",
        "################################################\n",
        "\n",
        "# query baca\n",
        "query_baca = '''\n",
        "SELECT ISBN, Judul, Pengarang, Penerbit, TahunTerbit, Kategori, Jumlah FROM tabel_perpustakaan\n",
        "'''\n",
        "\n",
        "# jalankan\n",
        "cursor = conn.execute(query_baca)\n",
        "\n",
        "# iterasi terhadap cursor\n",
        "for baris in cursor:\n",
        "  print(\"ISBN        =\",baris[0])\n",
        "  print(\"Judul       =\",baris[1])\n",
        "  print(\"Pengarang   =\",baris[2])\n",
        "  print(\"penerbit    =\",baris[3])\n",
        "  print(\"TahunTerbit =\",baris[4])\n",
        "  print(\"kategori    =\",baris[5])\n",
        "  print(\"Jumlah      =\",baris[6])\n",
        "  print()\n",
        "\n",
        "\n",
        "\n",
        "# tutup koneksi\n",
        "conn.close()"
      ],
      "metadata": {
        "id": "M0qp5UW-I-NL"
      },
      "execution_count": null,
      "outputs": []
    },
    {
      "cell_type": "markdown",
      "source": [
        "# hapus"
      ],
      "metadata": {
        "id": "WoT9bxidI_OD"
      }
    },
    {
      "cell_type": "code",
      "source": [
        "# library\n",
        "import sqlite3\n",
        "\n",
        "# membuat koneksi ke dalam database\n",
        "conn = sqlite3.connect(\"test.db\")\n",
        "\n",
        "# query untuk membaca tabel\n",
        "\n",
        "query = '''\n",
        "DELETE FROM tabel_perpustakaan WHERE ISBN = 2\n",
        "'''\n",
        "\n",
        "# jalankan\n",
        "conn.execute(query)\n",
        "\n",
        "# commit\n",
        "conn.commit()\n",
        "\n",
        "################################################\n",
        "\n",
        "# query baca\n",
        "query_baca = '''\n",
        "SELECT ISBN, Judul, Pengarang, Penerbit, TahunTerbit, Kategori, Jumlah FROM tabel_perpustakaan\n",
        "'''\n",
        "\n",
        "# jalankan\n",
        "cursor = conn.execute(query_baca)\n",
        "\n",
        "# iterasi terhadap cursor\n",
        "for baris in cursor:\n",
        "  print(\"ISBN        =\",baris[0])\n",
        "  print(\"Judul       =\",baris[1])\n",
        "  print(\"Pengarang   =\",baris[2])\n",
        "  print(\"penerbit    =\",baris[3])\n",
        "  print(\"TahunTerbit =\",baris[4])\n",
        "  print(\"kategori    =\",baris[5])\n",
        "  print(\"Jumlah      =\",baris[6])\n",
        "  print()\n",
        "\n",
        "\n",
        "\n",
        "# tutup koneksi\n",
        "conn.close()"
      ],
      "metadata": {
        "id": "DyRGgyJbJE5t"
      },
      "execution_count": null,
      "outputs": []
    }
  ]
}