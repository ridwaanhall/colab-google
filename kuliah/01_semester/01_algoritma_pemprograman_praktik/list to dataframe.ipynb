{
  "nbformat": 4,
  "nbformat_minor": 0,
  "metadata": {
    "colab": {
      "provenance": [],
      "authorship_tag": "ABX9TyN3LrlJt7qVymJuUpZvy2SQ",
      "include_colab_link": true
    },
    "kernelspec": {
      "name": "python3",
      "display_name": "Python 3"
    },
    "language_info": {
      "name": "python"
    }
  },
  "cells": [
    {
      "cell_type": "markdown",
      "metadata": {
        "id": "view-in-github",
        "colab_type": "text"
      },
      "source": [
        "<a href=\"https://colab.research.google.com/github/ridwaanhall/colab-google/blob/main/kuliah/01_semester/01_algoritma_pemprograman_praktik/list%20to%20dataframe.ipynb\" target=\"_parent\"><img src=\"https://colab.research.google.com/assets/colab-badge.svg\" alt=\"Open In Colab\"/></a>"
      ]
    },
    {
      "cell_type": "code",
      "metadata": {
        "id": "l3mHZz3tzCHP"
      },
      "source": [
        "#JUMLAH MAHASISWA\n",
        "LIST = int(input('masukkan banyaknya Mahasiswa : '))\n",
        "\n",
        "\n",
        "print(\"\")\n",
        "#LOOP\n",
        "arr1 =[]\n",
        "for i in range(LIST):\n",
        "    NIM = int(input('masukkan NIM : '))\n",
        "    arr1.append(NIM)\n",
        "\n",
        "arr2 = []\n",
        "for i in range(LIST):\n",
        "    NAMA = input('masukkan NAMA : ')\n",
        "    arr2.append(NAMA)\n",
        "\n",
        "arr3 = []\n",
        "for i in range(LIST):\n",
        "    ASALKOT = input('masukkan ASAL KOTA : ')\n",
        "    arr3.append(ASALKOT)\n",
        "\n",
        "arr4 = []\n",
        "for i in range(LIST):\n",
        "    TINGGIBDN = int(input('masukkan TINGGI BADAN : '))\n",
        "    arr4.append(TINGGIBDN)\n",
        "\n",
        "arr5 = []\n",
        "for i in range(LIST):\n",
        "    BERATBDN = int(input('masukkan BERAT BADAN : '))\n",
        "    arr5.append(BERATBDN)\n",
        "\n",
        "print(\"\")\n",
        "#MENGUBAH LIST MENJADI DATAFRAME\n",
        "import pandas\n",
        "l1 = print('l1 =',arr1)\n",
        "l2 = print('l2 =',arr2)\n",
        "l3 = print('l3 =',arr3)\n",
        "l4 = print('l4 =',arr4)\n",
        "l5 = print('l5 =',arr5)\n",
        "DATA = zip(arr1,arr2,arr3,arr4,arr5)\n",
        "df = pandas.DataFrame(DATA,columns=[\"NIM\",\"NAMA\",\" ASAL KOTA\",\"TINGGI BADAN\",\"BERAT BADAN\"])\n",
        "\n",
        "print(\"\")\n",
        "#PRINT\n",
        "print(df)"
      ],
      "execution_count": null,
      "outputs": []
    }
  ]
}