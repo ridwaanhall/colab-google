{
  "nbformat": 4,
  "nbformat_minor": 0,
  "metadata": {
    "colab": {
      "private_outputs": true,
      "provenance": [],
      "authorship_tag": "ABX9TyNGFFJokMFRmEKDf7L51sBT",
      "include_colab_link": true
    },
    "kernelspec": {
      "name": "python3",
      "display_name": "Python 3"
    },
    "language_info": {
      "name": "python"
    }
  },
  "cells": [
    {
      "cell_type": "markdown",
      "metadata": {
        "id": "view-in-github",
        "colab_type": "text"
      },
      "source": [
        "<a href=\"https://colab.research.google.com/github/ridwaanhall/colab-google/blob/main/kuliah/01_semester/01_algoritma_pemprograman_praktik/Untitled12.ipynb\" target=\"_parent\"><img src=\"https://colab.research.google.com/assets/colab-badge.svg\" alt=\"Open In Colab\"/></a>"
      ]
    },
    {
      "cell_type": "code",
      "execution_count": null,
      "metadata": {
        "id": "T7OaQEwCXNh6"
      },
      "outputs": [],
      "source": [
        "# membuat databse dan tabel pada SQLite\n",
        "import sqlite3\n",
        "\n",
        "conn = sqlite3.connect(\"mydb\")\n",
        "cur  = conn.cursor()\n",
        "sql  = '''\n",
        "        CREATE TABLE produk (\n",
        "        kode CHAR(4) NOT NULL PRIMARY KEY,\n",
        "        nama VARCHAR(25),\n",
        "        harga REAL)'''\n",
        "cur.execute(sql)\n",
        "cur.close()\n",
        "conn.close()"
      ]
    },
    {
      "cell_type": "code",
      "source": [
        "# mengisi tabel produk dalam SQLite\n",
        "import sqlite3\n",
        "\n",
        "conn = sqlite3.connect(\"mydb\")\n",
        "cur  = conn.cursor()\n",
        "\n",
        "# Menambah 3 baris data\n",
        "cur.execute(\"INSERT INTO produk VALUES('P001','Pensil'    ,6000)\")\n",
        "cur.execute(\"INSERT INTO produk VALUES('P002','Penghapus' ,9000)\")\n",
        "cur.execute(\"INSERT INTO produk VALUES('P003','Penggaris' ,12000)\")\n",
        "\n",
        "# commit transaksi\n",
        "conn.commit()\n",
        "\n",
        "# menutup objek cursor\n",
        "cur.close()\n",
        "\n",
        "# menutup objek koneksi\n",
        "conn.close()"
      ],
      "metadata": {
        "id": "0exF2azIYAtY"
      },
      "execution_count": null,
      "outputs": []
    }
  ]
}